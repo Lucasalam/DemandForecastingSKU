{
 "cells": [
  {
   "cell_type": "markdown",
   "metadata": {},
   "source": [
    "# Exploratory Data Analysis (EDA)"
   ]
  },
  {
   "cell_type": "markdown",
   "metadata": {},
   "source": [
    "## Introducción\n",
    "Este análisis exploratorio tiene como objetivo comprender mejor la distribución de las variables clave en los datos, así como las relaciones entre ellas. Esto nos permitirá tomar decisiones informadas en las etapas posteriores del proyecto.\n"
   ]
  },
  {
   "cell_type": "markdown",
   "metadata": {},
   "source": [
    "## 1. Cargar Librerías y Datos\n"
   ]
  },
  {
   "cell_type": "code",
   "execution_count": 2,
   "metadata": {},
   "outputs": [],
   "source": [
    "# Importar las librerías necesarias\n",
    "import pandas as pd\n",
    "import numpy as np\n",
    "import matplotlib.pyplot as plt\n",
    "import seaborn as sns\n",
    "\n"
   ]
  },
  {
   "cell_type": "markdown",
   "metadata": {},
   "source": [
    "## 2. Configuración del Entorno"
   ]
  },
  {
   "cell_type": "code",
   "execution_count": 4,
   "metadata": {},
   "outputs": [],
   "source": [
    "# Configuración de opciones de pandas\n",
    "pd.set_option('display.max_columns', None)\n",
    "\n",
    "# Configuración de estilo para las visualizaciones\n",
    "sns.set(style=\"whitegrid\")\n",
    "\n",
    "# Configuración para reproducibilidad\n",
    "np.random.seed(42)\n",
    "\n",
    "data_dir = '../data/'\n",
    "models_dir = '../models/'\n"
   ]
  },
  {
   "cell_type": "markdown",
   "metadata": {},
   "source": [
    "## 3. Carga de Datos\n"
   ]
  },
  {
   "cell_type": "code",
   "execution_count": 5,
   "metadata": {},
   "outputs": [
    {
     "data": {
      "text/plain": [
       "((227355, 5), (10805, 4))"
      ]
     },
     "execution_count": 5,
     "metadata": {},
     "output_type": "execute_result"
    }
   ],
   "source": [
    "# Cargar los datasets de ventas y geográficos\n",
    "sales_df = pd.read_csv(f'{data_dir}product_sales.csv')\n",
    "geo_df = pd.read_csv(f'{data_dir}geo.csv')\n",
    "\n",
    "sales_df.shape,geo_df.shape"
   ]
  },
  {
   "cell_type": "code",
   "execution_count": 6,
   "metadata": {},
   "outputs": [
    {
     "data": {
      "text/html": [
       "<div>\n",
       "<style scoped>\n",
       "    .dataframe tbody tr th:only-of-type {\n",
       "        vertical-align: middle;\n",
       "    }\n",
       "\n",
       "    .dataframe tbody tr th {\n",
       "        vertical-align: top;\n",
       "    }\n",
       "\n",
       "    .dataframe thead th {\n",
       "        text-align: right;\n",
       "    }\n",
       "</style>\n",
       "<table border=\"1\" class=\"dataframe\">\n",
       "  <thead>\n",
       "    <tr style=\"text-align: right;\">\n",
       "      <th></th>\n",
       "      <th>country</th>\n",
       "      <th>product_id</th>\n",
       "      <th>date</th>\n",
       "      <th>zipcode</th>\n",
       "      <th>sales</th>\n",
       "    </tr>\n",
       "  </thead>\n",
       "  <tbody>\n",
       "    <tr>\n",
       "      <th>0</th>\n",
       "      <td>M</td>\n",
       "      <td>bded4d22-a25e-4b42-b9d6-41d3b1a5f71b</td>\n",
       "      <td>2024-07-21</td>\n",
       "      <td>85890.0</td>\n",
       "      <td>3.0</td>\n",
       "    </tr>\n",
       "    <tr>\n",
       "      <th>1</th>\n",
       "      <td>M</td>\n",
       "      <td>0310455e-2ec8-4e02-8a12-b59424678ff2</td>\n",
       "      <td>2024-08-06</td>\n",
       "      <td>97267.0</td>\n",
       "      <td>9999</td>\n",
       "    </tr>\n",
       "    <tr>\n",
       "      <th>2</th>\n",
       "      <td>B</td>\n",
       "      <td>c5b9d75d-86bc-4e87-87c4-1d751096d21a</td>\n",
       "      <td>2024-07-10</td>\n",
       "      <td>13212117.0</td>\n",
       "      <td>1.0</td>\n",
       "    </tr>\n",
       "  </tbody>\n",
       "</table>\n",
       "</div>"
      ],
      "text/plain": [
       "  country                            product_id        date     zipcode sales\n",
       "0       M  bded4d22-a25e-4b42-b9d6-41d3b1a5f71b  2024-07-21     85890.0   3.0\n",
       "1       M  0310455e-2ec8-4e02-8a12-b59424678ff2  2024-08-06     97267.0  9999\n",
       "2       B  c5b9d75d-86bc-4e87-87c4-1d751096d21a  2024-07-10  13212117.0   1.0"
      ]
     },
     "execution_count": 6,
     "metadata": {},
     "output_type": "execute_result"
    }
   ],
   "source": [
    "sales_df.head(3)"
   ]
  },
  {
   "cell_type": "code",
   "execution_count": 7,
   "metadata": {},
   "outputs": [
    {
     "data": {
      "text/html": [
       "<div>\n",
       "<style scoped>\n",
       "    .dataframe tbody tr th:only-of-type {\n",
       "        vertical-align: middle;\n",
       "    }\n",
       "\n",
       "    .dataframe tbody tr th {\n",
       "        vertical-align: top;\n",
       "    }\n",
       "\n",
       "    .dataframe thead th {\n",
       "        text-align: right;\n",
       "    }\n",
       "</style>\n",
       "<table border=\"1\" class=\"dataframe\">\n",
       "  <thead>\n",
       "    <tr style=\"text-align: right;\">\n",
       "      <th></th>\n",
       "      <th>country</th>\n",
       "      <th>s_zipcode</th>\n",
       "      <th>e_zipcode</th>\n",
       "      <th>city</th>\n",
       "    </tr>\n",
       "  </thead>\n",
       "  <tbody>\n",
       "    <tr>\n",
       "      <th>0</th>\n",
       "      <td>B</td>\n",
       "      <td>63700000</td>\n",
       "      <td>63740000</td>\n",
       "      <td>B1</td>\n",
       "    </tr>\n",
       "    <tr>\n",
       "      <th>1</th>\n",
       "      <td>B</td>\n",
       "      <td>57968000</td>\n",
       "      <td>57980000</td>\n",
       "      <td>B1</td>\n",
       "    </tr>\n",
       "  </tbody>\n",
       "</table>\n",
       "</div>"
      ],
      "text/plain": [
       "  country  s_zipcode  e_zipcode city\n",
       "0       B   63700000   63740000   B1\n",
       "1       B   57968000   57980000   B1"
      ]
     },
     "execution_count": 7,
     "metadata": {},
     "output_type": "execute_result"
    }
   ],
   "source": [
    "geo_df.head(2)"
   ]
  },
  {
   "cell_type": "markdown",
   "metadata": {},
   "source": [
    "## 4. Análisis Descriptivo de los Datos"
   ]
  },
  {
   "cell_type": "code",
   "execution_count": 27,
   "metadata": {},
   "outputs": [
    {
     "name": "stdout",
     "output_type": "stream",
     "text": [
      "<class 'pandas.core.frame.DataFrame'>\n",
      "RangeIndex: 227355 entries, 0 to 227354\n",
      "Data columns (total 5 columns):\n",
      " #   Column      Non-Null Count   Dtype  \n",
      "---  ------      --------------   -----  \n",
      " 0   country     227355 non-null  object \n",
      " 1   product_id  227355 non-null  object \n",
      " 2   date        227355 non-null  object \n",
      " 3   zipcode     226547 non-null  float64\n",
      " 4   sales       227314 non-null  object \n",
      "dtypes: float64(1), object(4)\n",
      "memory usage: 8.7+ MB\n"
     ]
    }
   ],
   "source": [
    "sales_df.info()\n",
    "# contiene null zipcode y sale"
   ]
  },
  {
   "cell_type": "code",
   "execution_count": 68,
   "metadata": {},
   "outputs": [
    {
     "name": "stdout",
     "output_type": "stream",
     "text": [
      "<class 'pandas.core.frame.DataFrame'>\n",
      "RangeIndex: 10805 entries, 0 to 10804\n",
      "Data columns (total 4 columns):\n",
      " #   Column     Non-Null Count  Dtype \n",
      "---  ------     --------------  ----- \n",
      " 0   country    10805 non-null  object\n",
      " 1   s_zipcode  10805 non-null  int64 \n",
      " 2   e_zipcode  10805 non-null  int64 \n",
      " 3   city       10805 non-null  object\n",
      "dtypes: int64(2), object(2)\n",
      "memory usage: 337.8+ KB\n"
     ]
    }
   ],
   "source": [
    "geo_df.info()"
   ]
  },
  {
   "cell_type": "code",
   "execution_count": 71,
   "metadata": {},
   "outputs": [
    {
     "data": {
      "text/html": [
       "<div>\n",
       "<style scoped>\n",
       "    .dataframe tbody tr th:only-of-type {\n",
       "        vertical-align: middle;\n",
       "    }\n",
       "\n",
       "    .dataframe tbody tr th {\n",
       "        vertical-align: top;\n",
       "    }\n",
       "\n",
       "    .dataframe thead th {\n",
       "        text-align: right;\n",
       "    }\n",
       "</style>\n",
       "<table border=\"1\" class=\"dataframe\">\n",
       "  <thead>\n",
       "    <tr style=\"text-align: right;\">\n",
       "      <th></th>\n",
       "      <th>count</th>\n",
       "      <th>unique</th>\n",
       "      <th>top</th>\n",
       "      <th>freq</th>\n",
       "    </tr>\n",
       "  </thead>\n",
       "  <tbody>\n",
       "    <tr>\n",
       "      <th>country</th>\n",
       "      <td>227355</td>\n",
       "      <td>5</td>\n",
       "      <td>B</td>\n",
       "      <td>148061</td>\n",
       "    </tr>\n",
       "    <tr>\n",
       "      <th>product_id</th>\n",
       "      <td>227355</td>\n",
       "      <td>990</td>\n",
       "      <td>fb60ac97-2463-4245-b533-337e2fcef4af</td>\n",
       "      <td>9846</td>\n",
       "    </tr>\n",
       "    <tr>\n",
       "      <th>sales</th>\n",
       "      <td>227314</td>\n",
       "      <td>45</td>\n",
       "      <td>1.0</td>\n",
       "      <td>162533</td>\n",
       "    </tr>\n",
       "  </tbody>\n",
       "</table>\n",
       "</div>"
      ],
      "text/plain": [
       "             count unique                                   top    freq\n",
       "country     227355      5                                     B  148061\n",
       "product_id  227355    990  fb60ac97-2463-4245-b533-337e2fcef4af    9846\n",
       "sales       227314     45                                   1.0  162533"
      ]
     },
     "execution_count": 71,
     "metadata": {},
     "output_type": "execute_result"
    }
   ],
   "source": [
    "sales_df.describe(include=object)"
   ]
  },
  {
   "cell_type": "code",
   "execution_count": 41,
   "metadata": {},
   "outputs": [
    {
     "data": {
      "text/plain": [
       "sales\n",
       "1.0      0.714886\n",
       "9999     0.175109\n",
       "2.0      0.066579\n",
       "3.0      0.020589\n",
       "4.0      0.009602\n",
       "5.0      0.003950\n",
       "6.0      0.003308\n",
       "10.0     0.001346\n",
       "xfffx    0.001188\n",
       "8.0      0.000787\n",
       "Name: proportion, dtype: float64"
      ]
     },
     "execution_count": 41,
     "metadata": {},
     "output_type": "execute_result"
    }
   ],
   "source": [
    "sales_df.sales.value_counts(1,dropna=False).head(10)"
   ]
  },
  {
   "cell_type": "code",
   "execution_count": 42,
   "metadata": {},
   "outputs": [
    {
     "data": {
      "text/plain": [
       "country\n",
       "B     0.651233\n",
       "M     0.295164\n",
       "A     0.048959\n",
       "C     0.003211\n",
       "CO    0.001434\n",
       "Name: proportion, dtype: float64"
      ]
     },
     "execution_count": 42,
     "metadata": {},
     "output_type": "execute_result"
    }
   ],
   "source": [
    "sales_df.country.value_counts(1,dropna=False).head(10)"
   ]
  },
  {
   "cell_type": "code",
   "execution_count": 8,
   "metadata": {},
   "outputs": [],
   "source": [
    "# cambiar de formato\n",
    "sales_df['date']=pd.to_datetime(sales_df['date']).dt.date\n",
    "\n",
    "sales_df['sales_numeric']=pd.to_numeric(sales_df['sales'],errors='coerce')"
   ]
  },
  {
   "cell_type": "code",
   "execution_count": 9,
   "metadata": {},
   "outputs": [
    {
     "data": {
      "text/plain": [
       "sales\n",
       "xfffx    270\n",
       "NaN       41\n",
       "Name: count, dtype: int64"
      ]
     },
     "execution_count": 9,
     "metadata": {},
     "output_type": "execute_result"
    }
   ],
   "source": [
    "sales_df[sales_df['sales_numeric'].isnull()].sales.value_counts(dropna=False).head()"
   ]
  },
  {
   "cell_type": "code",
   "execution_count": 10,
   "metadata": {},
   "outputs": [
    {
     "data": {
      "text/html": [
       "<div>\n",
       "<style scoped>\n",
       "    .dataframe tbody tr th:only-of-type {\n",
       "        vertical-align: middle;\n",
       "    }\n",
       "\n",
       "    .dataframe tbody tr th {\n",
       "        vertical-align: top;\n",
       "    }\n",
       "\n",
       "    .dataframe thead th {\n",
       "        text-align: right;\n",
       "    }\n",
       "</style>\n",
       "<table border=\"1\" class=\"dataframe\">\n",
       "  <thead>\n",
       "    <tr style=\"text-align: right;\">\n",
       "      <th></th>\n",
       "      <th>count</th>\n",
       "      <th>mean</th>\n",
       "      <th>std</th>\n",
       "      <th>min</th>\n",
       "      <th>25%</th>\n",
       "      <th>50%</th>\n",
       "      <th>75%</th>\n",
       "      <th>max</th>\n",
       "    </tr>\n",
       "  </thead>\n",
       "  <tbody>\n",
       "    <tr>\n",
       "      <th>sales_numeric</th>\n",
       "      <td>227044.0</td>\n",
       "      <td>1.754367e+03</td>\n",
       "      <td>3.801800e+03</td>\n",
       "      <td>1.0</td>\n",
       "      <td>1.0</td>\n",
       "      <td>1.0</td>\n",
       "      <td>2.0</td>\n",
       "      <td>9999.0</td>\n",
       "    </tr>\n",
       "    <tr>\n",
       "      <th>zipcode</th>\n",
       "      <td>226547.0</td>\n",
       "      <td>2.493357e+07</td>\n",
       "      <td>3.042109e+07</td>\n",
       "      <td>1000.0</td>\n",
       "      <td>67303.0</td>\n",
       "      <td>13049012.0</td>\n",
       "      <td>38402270.5</td>\n",
       "      <td>99990000.0</td>\n",
       "    </tr>\n",
       "  </tbody>\n",
       "</table>\n",
       "</div>"
      ],
      "text/plain": [
       "                  count          mean           std     min      25%  \\\n",
       "sales_numeric  227044.0  1.754367e+03  3.801800e+03     1.0      1.0   \n",
       "zipcode        226547.0  2.493357e+07  3.042109e+07  1000.0  67303.0   \n",
       "\n",
       "                      50%         75%         max  \n",
       "sales_numeric         1.0         2.0      9999.0  \n",
       "zipcode        13049012.0  38402270.5  99990000.0  "
      ]
     },
     "execution_count": 10,
     "metadata": {},
     "output_type": "execute_result"
    }
   ],
   "source": [
    "sales_df[['date','sales_numeric','zipcode']].describe().T"
   ]
  },
  {
   "cell_type": "markdown",
   "metadata": {},
   "source": [
    "### Analisis Univariado Y Bivaridado"
   ]
  },
  {
   "cell_type": "markdown",
   "metadata": {},
   "source": [
    "### Analisis zipcode"
   ]
  },
  {
   "cell_type": "code",
   "execution_count": null,
   "metadata": {},
   "outputs": [],
   "source": [
    "# me llamo la atencion el zipcode maximo 99990000.0\n",
    "# los valores faltantes"
   ]
  },
  {
   "cell_type": "code",
   "execution_count": 136,
   "metadata": {},
   "outputs": [
    {
     "data": {
      "text/plain": [
       "zipcode\n",
       "99990000.0     1\n",
       "99980000.0     3\n",
       "99965000.0     1\n",
       "99960000.0     3\n",
       "99952000.0     5\n",
       "99950000.0    37\n",
       "99940000.0     1\n",
       "99930000.0     2\n",
       "99920000.0     4\n",
       "99900000.0    14\n",
       "Name: count, dtype: int64"
      ]
     },
     "execution_count": 136,
     "metadata": {},
     "output_type": "execute_result"
    }
   ],
   "source": [
    "sales_df['zipcode'].value_counts().sort_index(ascending=False).head(10)"
   ]
  },
  {
   "cell_type": "code",
   "execution_count": 138,
   "metadata": {},
   "outputs": [
    {
     "data": {
      "text/html": [
       "<div>\n",
       "<style scoped>\n",
       "    .dataframe tbody tr th:only-of-type {\n",
       "        vertical-align: middle;\n",
       "    }\n",
       "\n",
       "    .dataframe tbody tr th {\n",
       "        vertical-align: top;\n",
       "    }\n",
       "\n",
       "    .dataframe thead th {\n",
       "        text-align: right;\n",
       "    }\n",
       "</style>\n",
       "<table border=\"1\" class=\"dataframe\">\n",
       "  <thead>\n",
       "    <tr style=\"text-align: right;\">\n",
       "      <th></th>\n",
       "      <th>country</th>\n",
       "      <th>s_zipcode</th>\n",
       "      <th>e_zipcode</th>\n",
       "      <th>city</th>\n",
       "    </tr>\n",
       "  </thead>\n",
       "  <tbody>\n",
       "    <tr>\n",
       "      <th>10804</th>\n",
       "      <td>B</td>\n",
       "      <td>99990000</td>\n",
       "      <td>99999999</td>\n",
       "      <td>B2</td>\n",
       "    </tr>\n",
       "  </tbody>\n",
       "</table>\n",
       "</div>"
      ],
      "text/plain": [
       "      country  s_zipcode  e_zipcode city\n",
       "10804       B   99990000   99999999   B2"
      ]
     },
     "execution_count": 138,
     "metadata": {},
     "output_type": "execute_result"
    }
   ],
   "source": [
    "geo_df[geo_df['s_zipcode']>=99990000].head()"
   ]
  },
  {
   "cell_type": "code",
   "execution_count": 128,
   "metadata": {},
   "outputs": [
    {
     "data": {
      "text/html": [
       "<div>\n",
       "<style scoped>\n",
       "    .dataframe tbody tr th:only-of-type {\n",
       "        vertical-align: middle;\n",
       "    }\n",
       "\n",
       "    .dataframe tbody tr th {\n",
       "        vertical-align: top;\n",
       "    }\n",
       "\n",
       "    .dataframe thead th {\n",
       "        text-align: right;\n",
       "    }\n",
       "</style>\n",
       "<table border=\"1\" class=\"dataframe\">\n",
       "  <thead>\n",
       "    <tr style=\"text-align: right;\">\n",
       "      <th></th>\n",
       "      <th>country</th>\n",
       "      <th>product_id</th>\n",
       "      <th>date</th>\n",
       "      <th>zipcode</th>\n",
       "      <th>sales</th>\n",
       "      <th>sales_numeric</th>\n",
       "      <th>null_sale</th>\n",
       "      <th>null_zipcode</th>\n",
       "    </tr>\n",
       "  </thead>\n",
       "  <tbody>\n",
       "    <tr>\n",
       "      <th>138790</th>\n",
       "      <td>B</td>\n",
       "      <td>449a2db0-8cc6-4f58-935f-1dbe6046a779</td>\n",
       "      <td>2024-06-11</td>\n",
       "      <td>99990000.0</td>\n",
       "      <td>1.0</td>\n",
       "      <td>1.0</td>\n",
       "      <td>no</td>\n",
       "      <td>no</td>\n",
       "    </tr>\n",
       "  </tbody>\n",
       "</table>\n",
       "</div>"
      ],
      "text/plain": [
       "       country                            product_id       date     zipcode  \\\n",
       "138790       B  449a2db0-8cc6-4f58-935f-1dbe6046a779 2024-06-11  99990000.0   \n",
       "\n",
       "       sales  sales_numeric null_sale null_zipcode  \n",
       "138790   1.0            1.0        no           no  "
      ]
     },
     "execution_count": 128,
     "metadata": {},
     "output_type": "execute_result"
    }
   ],
   "source": [
    "sales_df[sales_df['zipcode']==99990000].head()\n",
    "\n",
    "# no es un valor quemado sino un codigo real "
   ]
  },
  {
   "cell_type": "code",
   "execution_count": 37,
   "metadata": {},
   "outputs": [],
   "source": [
    "sales_df['null_zipcode']=np.where(sales_df['zipcode'].isnull(),'si','no')"
   ]
  },
  {
   "cell_type": "markdown",
   "metadata": {},
   "source": [
    "### Analisis sale"
   ]
  },
  {
   "cell_type": "code",
   "execution_count": 38,
   "metadata": {},
   "outputs": [],
   "source": [
    "# en analsisi exploratorio se observa que el 9999 es una imputacion, se podria hacer una marca en la base para ver si puede funcionar como una feature \n",
    "\n",
    "sales_df['sales_final']=np.where(sales_df['sales_numeric'].isin([9999,np.nan]),np.nan,sales_df['sales_numeric'])"
   ]
  },
  {
   "cell_type": "code",
   "execution_count": 36,
   "metadata": {},
   "outputs": [],
   "source": [
    "sales_df['null_sale']=np.where(sales_df['sales_final'].isin([np.nan]),'si','no')"
   ]
  },
  {
   "cell_type": "code",
   "execution_count": 159,
   "metadata": {},
   "outputs": [
    {
     "data": {
      "text/html": [
       "<div>\n",
       "<style scoped>\n",
       "    .dataframe tbody tr th:only-of-type {\n",
       "        vertical-align: middle;\n",
       "    }\n",
       "\n",
       "    .dataframe tbody tr th {\n",
       "        vertical-align: top;\n",
       "    }\n",
       "\n",
       "    .dataframe thead th {\n",
       "        text-align: right;\n",
       "    }\n",
       "</style>\n",
       "<table border=\"1\" class=\"dataframe\">\n",
       "  <thead>\n",
       "    <tr style=\"text-align: right;\">\n",
       "      <th>null_sale</th>\n",
       "      <th>no</th>\n",
       "      <th>si</th>\n",
       "    </tr>\n",
       "    <tr>\n",
       "      <th>country</th>\n",
       "      <th></th>\n",
       "      <th></th>\n",
       "    </tr>\n",
       "  </thead>\n",
       "  <tbody>\n",
       "    <tr>\n",
       "      <th>A</th>\n",
       "      <td>0.828317</td>\n",
       "      <td>0.171683</td>\n",
       "    </tr>\n",
       "    <tr>\n",
       "      <th>B</th>\n",
       "      <td>0.824201</td>\n",
       "      <td>0.175799</td>\n",
       "    </tr>\n",
       "    <tr>\n",
       "      <th>C</th>\n",
       "      <td>0.806849</td>\n",
       "      <td>0.193151</td>\n",
       "    </tr>\n",
       "    <tr>\n",
       "      <th>CO</th>\n",
       "      <td>0.812883</td>\n",
       "      <td>0.187117</td>\n",
       "    </tr>\n",
       "    <tr>\n",
       "      <th>M</th>\n",
       "      <td>0.821464</td>\n",
       "      <td>0.178536</td>\n",
       "    </tr>\n",
       "    <tr>\n",
       "      <th>All</th>\n",
       "      <td>0.823523</td>\n",
       "      <td>0.176477</td>\n",
       "    </tr>\n",
       "  </tbody>\n",
       "</table>\n",
       "</div>"
      ],
      "text/plain": [
       "null_sale        no        si\n",
       "country                      \n",
       "A          0.828317  0.171683\n",
       "B          0.824201  0.175799\n",
       "C          0.806849  0.193151\n",
       "CO         0.812883  0.187117\n",
       "M          0.821464  0.178536\n",
       "All        0.823523  0.176477"
      ]
     },
     "execution_count": 159,
     "metadata": {},
     "output_type": "execute_result"
    }
   ],
   "source": [
    "pd.crosstab(index=sales_df['country'],\n",
    "            columns=sales_df['null_sale'],\n",
    "            normalize='index',\n",
    "            margins=True)\n",
    "\n",
    "# se observa una distribucion similar por country de los valores null"
   ]
  },
  {
   "cell_type": "code",
   "execution_count": 141,
   "metadata": {},
   "outputs": [
    {
     "data": {
      "text/plain": [
       "((231, 4), (990, 4))"
      ]
     },
     "execution_count": 141,
     "metadata": {},
     "output_type": "execute_result"
    }
   ],
   "source": [
    "df_null_acum=pd.crosstab(index=sales_df['product_id'],\n",
    "            columns=sales_df['null_sale'],\n",
    "            normalize='columns',\n",
    "            margins=False).sort_values(['si'],ascending=False).reset_index()\n",
    "\n",
    "df_null_acum['sales_cumulative_nan']= df_null_acum['si'].cumsum()\n",
    "df_null_acum[df_null_acum['sales_cumulative_nan']<0.8].shape,df_null_acum.shape\n",
    "\n",
    "## del total de lo null distribuido por los productos el 80% esta en el 23% de los productos"
   ]
  },
  {
   "cell_type": "code",
   "execution_count": 122,
   "metadata": {},
   "outputs": [
    {
     "data": {
      "text/html": [
       "<div>\n",
       "<style scoped>\n",
       "    .dataframe tbody tr th:only-of-type {\n",
       "        vertical-align: middle;\n",
       "    }\n",
       "\n",
       "    .dataframe tbody tr th {\n",
       "        vertical-align: top;\n",
       "    }\n",
       "\n",
       "    .dataframe thead th {\n",
       "        text-align: right;\n",
       "    }\n",
       "</style>\n",
       "<table border=\"1\" class=\"dataframe\">\n",
       "  <thead>\n",
       "    <tr style=\"text-align: right;\">\n",
       "      <th>null_sale</th>\n",
       "      <th>no</th>\n",
       "      <th>si</th>\n",
       "    </tr>\n",
       "    <tr>\n",
       "      <th>product_id</th>\n",
       "      <th></th>\n",
       "      <th></th>\n",
       "    </tr>\n",
       "  </thead>\n",
       "  <tbody>\n",
       "    <tr>\n",
       "      <th>fedef20d-4e40-42e3-968d-e5042b32c180</th>\n",
       "      <td>0.000000</td>\n",
       "      <td>1.000000</td>\n",
       "    </tr>\n",
       "    <tr>\n",
       "      <th>8fb5c53e-f6c3-4335-9229-b118fa4f6cf9</th>\n",
       "      <td>0.000000</td>\n",
       "      <td>1.000000</td>\n",
       "    </tr>\n",
       "    <tr>\n",
       "      <th>aa6d7784-9015-427d-8e9a-9386500418cc</th>\n",
       "      <td>0.000000</td>\n",
       "      <td>1.000000</td>\n",
       "    </tr>\n",
       "    <tr>\n",
       "      <th>0c8df675-76e9-4556-877f-d2c31e55f329</th>\n",
       "      <td>0.000000</td>\n",
       "      <td>1.000000</td>\n",
       "    </tr>\n",
       "    <tr>\n",
       "      <th>497beefb-58ce-4037-89ad-001d87d96fbe</th>\n",
       "      <td>0.000000</td>\n",
       "      <td>1.000000</td>\n",
       "    </tr>\n",
       "    <tr>\n",
       "      <th>a50e2069-7e7d-4cae-97b9-edb93107050a</th>\n",
       "      <td>0.000000</td>\n",
       "      <td>1.000000</td>\n",
       "    </tr>\n",
       "    <tr>\n",
       "      <th>9019c898-92cc-4125-836e-1debb9a9f806</th>\n",
       "      <td>0.200000</td>\n",
       "      <td>0.800000</td>\n",
       "    </tr>\n",
       "    <tr>\n",
       "      <th>785ac3f5-4c76-4140-b4ea-2114f1a06d4f</th>\n",
       "      <td>0.250000</td>\n",
       "      <td>0.750000</td>\n",
       "    </tr>\n",
       "    <tr>\n",
       "      <th>7b22adb8-3330-46e3-966a-292e8b433671</th>\n",
       "      <td>0.307692</td>\n",
       "      <td>0.692308</td>\n",
       "    </tr>\n",
       "    <tr>\n",
       "      <th>29f99152-e535-4e99-8773-f228bf4585f5</th>\n",
       "      <td>0.333333</td>\n",
       "      <td>0.666667</td>\n",
       "    </tr>\n",
       "  </tbody>\n",
       "</table>\n",
       "</div>"
      ],
      "text/plain": [
       "null_sale                                   no        si\n",
       "product_id                                              \n",
       "fedef20d-4e40-42e3-968d-e5042b32c180  0.000000  1.000000\n",
       "8fb5c53e-f6c3-4335-9229-b118fa4f6cf9  0.000000  1.000000\n",
       "aa6d7784-9015-427d-8e9a-9386500418cc  0.000000  1.000000\n",
       "0c8df675-76e9-4556-877f-d2c31e55f329  0.000000  1.000000\n",
       "497beefb-58ce-4037-89ad-001d87d96fbe  0.000000  1.000000\n",
       "a50e2069-7e7d-4cae-97b9-edb93107050a  0.000000  1.000000\n",
       "9019c898-92cc-4125-836e-1debb9a9f806  0.200000  0.800000\n",
       "785ac3f5-4c76-4140-b4ea-2114f1a06d4f  0.250000  0.750000\n",
       "7b22adb8-3330-46e3-966a-292e8b433671  0.307692  0.692308\n",
       "29f99152-e535-4e99-8773-f228bf4585f5  0.333333  0.666667"
      ]
     },
     "execution_count": 122,
     "metadata": {},
     "output_type": "execute_result"
    }
   ],
   "source": [
    "pd.crosstab(index=sales_df['product_id'],\n",
    "            columns=sales_df['null_sale'],\n",
    "            normalize='index',\n",
    "            margins=False).sort_values(['no'],ascending=True).head(10)\n",
    "\n",
    "# hay 6 productos que su venta fue null"
   ]
  },
  {
   "cell_type": "code",
   "execution_count": 75,
   "metadata": {},
   "outputs": [
    {
     "data": {
      "image/png": "[encoded data removed]",
      "text/plain": [
       "<Figure size 1500x300 with 1 Axes>"
      ]
     },
     "metadata": {},
     "output_type": "display_data"
    }
   ],
   "source": [
    "plt.figure(figsize=(15, 3))\n",
    "sales_df[sales_df['sales'].isin(['xfffx'])].date.value_counts().sort_index().plot()\n",
    "plt.show()"
   ]
  },
  {
   "cell_type": "code",
   "execution_count": 67,
   "metadata": {},
   "outputs": [
    {
     "data": {
      "image/png": "[encoded data removed]",
      "text/plain": [
       "<Figure size 1500x300 with 1 Axes>"
      ]
     },
     "metadata": {},
     "output_type": "display_data"
    }
   ],
   "source": [
    "plt.figure(figsize=(15, 3))\n",
    "sales_df[sales_df['sales_numeric'].isin([np.nan])].date.value_counts().sort_index().plot()\n",
    "plt.show()"
   ]
  },
  {
   "cell_type": "code",
   "execution_count": 66,
   "metadata": {},
   "outputs": [
    {
     "data": {
      "image/png": "[encoded data removed]",
      "text/plain": [
       "<Figure size 1500x300 with 1 Axes>"
      ]
     },
     "metadata": {},
     "output_type": "display_data"
    }
   ],
   "source": [
    "plt.figure(figsize=(15, 3))\n",
    "sales_df[sales_df['sales_numeric'].isin([9999])].date.value_counts().sort_index().plot()\n",
    "plt.show()"
   ]
  },
  {
   "cell_type": "code",
   "execution_count": null,
   "metadata": {},
   "outputs": [],
   "source": [
    "# lo null se distribuyen en todos los peridos. no se observa una consetraccion en algun periodo especifico "
   ]
  },
  {
   "cell_type": "code",
   "execution_count": 127,
   "metadata": {},
   "outputs": [
    {
     "data": {
      "text/html": [
       "<div>\n",
       "<style scoped>\n",
       "    .dataframe tbody tr th:only-of-type {\n",
       "        vertical-align: middle;\n",
       "    }\n",
       "\n",
       "    .dataframe tbody tr th {\n",
       "        vertical-align: top;\n",
       "    }\n",
       "\n",
       "    .dataframe thead th {\n",
       "        text-align: right;\n",
       "    }\n",
       "</style>\n",
       "<table border=\"1\" class=\"dataframe\">\n",
       "  <thead>\n",
       "    <tr style=\"text-align: right;\">\n",
       "      <th>null_sale</th>\n",
       "      <th>no</th>\n",
       "      <th>si</th>\n",
       "      <th>All</th>\n",
       "    </tr>\n",
       "    <tr>\n",
       "      <th>null_zipcode</th>\n",
       "      <th></th>\n",
       "      <th></th>\n",
       "      <th></th>\n",
       "    </tr>\n",
       "  </thead>\n",
       "  <tbody>\n",
       "    <tr>\n",
       "      <th>no</th>\n",
       "      <td>186576</td>\n",
       "      <td>39971</td>\n",
       "      <td>226547</td>\n",
       "    </tr>\n",
       "    <tr>\n",
       "      <th>si</th>\n",
       "      <td>656</td>\n",
       "      <td>152</td>\n",
       "      <td>808</td>\n",
       "    </tr>\n",
       "    <tr>\n",
       "      <th>All</th>\n",
       "      <td>187232</td>\n",
       "      <td>40123</td>\n",
       "      <td>227355</td>\n",
       "    </tr>\n",
       "  </tbody>\n",
       "</table>\n",
       "</div>"
      ],
      "text/plain": [
       "null_sale         no     si     All\n",
       "null_zipcode                       \n",
       "no            186576  39971  226547\n",
       "si               656    152     808\n",
       "All           187232  40123  227355"
      ]
     },
     "execution_count": 127,
     "metadata": {},
     "output_type": "execute_result"
    }
   ],
   "source": [
    "pd.crosstab(index=sales_df['null_zipcode'],\n",
    "            columns=sales_df['null_sale'],\n",
    "            #normalize='index',\n",
    "            margins=True)\n",
    "\n",
    "## en un principio se podria descartar lo que tienen null tanto en las ventas como en zipcode, ya que hay dos informacion desconocida, para el preducto en cuestion no se sabe la cantidad ni la zona donde se vendio\n",
    "## los null zipcode (656) se puede generar como una region \"null\" dentro de cada pais y luego con el negocio entender mejor. si no representa una region especifica se podria luego proratera esa cantidad \n",
    "## Los null que tengo el zipcode pero no las ventas (39971) voy a buscar el \"mejor\" criterio para imputarlos"
   ]
  },
  {
   "cell_type": "markdown",
   "metadata": {},
   "source": [
    "### Analisis country"
   ]
  },
  {
   "cell_type": "code",
   "execution_count": 161,
   "metadata": {},
   "outputs": [
    {
     "data": {
      "text/html": [
       "<div>\n",
       "<style scoped>\n",
       "    .dataframe tbody tr th:only-of-type {\n",
       "        vertical-align: middle;\n",
       "    }\n",
       "\n",
       "    .dataframe tbody tr th {\n",
       "        vertical-align: top;\n",
       "    }\n",
       "\n",
       "    .dataframe thead th {\n",
       "        text-align: right;\n",
       "    }\n",
       "</style>\n",
       "<table border=\"1\" class=\"dataframe\">\n",
       "  <thead>\n",
       "    <tr style=\"text-align: right;\">\n",
       "      <th></th>\n",
       "      <th>country</th>\n",
       "      <th>product_id</th>\n",
       "      <th>date</th>\n",
       "      <th>zipcode</th>\n",
       "      <th>sales</th>\n",
       "      <th>sales_numeric</th>\n",
       "      <th>null_sale</th>\n",
       "      <th>null_zipcode</th>\n",
       "      <th>sales_final</th>\n",
       "    </tr>\n",
       "  </thead>\n",
       "  <tbody>\n",
       "    <tr>\n",
       "      <th>0</th>\n",
       "      <td>M</td>\n",
       "      <td>bded4d22-a25e-4b42-b9d6-41d3b1a5f71b</td>\n",
       "      <td>2024-07-21</td>\n",
       "      <td>85890.0</td>\n",
       "      <td>3.0</td>\n",
       "      <td>3.0</td>\n",
       "      <td>no</td>\n",
       "      <td>no</td>\n",
       "      <td>3.0</td>\n",
       "    </tr>\n",
       "    <tr>\n",
       "      <th>1</th>\n",
       "      <td>M</td>\n",
       "      <td>0310455e-2ec8-4e02-8a12-b59424678ff2</td>\n",
       "      <td>2024-08-06</td>\n",
       "      <td>97267.0</td>\n",
       "      <td>9999</td>\n",
       "      <td>9999.0</td>\n",
       "      <td>si</td>\n",
       "      <td>no</td>\n",
       "      <td>NaN</td>\n",
       "    </tr>\n",
       "  </tbody>\n",
       "</table>\n",
       "</div>"
      ],
      "text/plain": [
       "  country                            product_id       date  zipcode sales  \\\n",
       "0       M  bded4d22-a25e-4b42-b9d6-41d3b1a5f71b 2024-07-21  85890.0   3.0   \n",
       "1       M  0310455e-2ec8-4e02-8a12-b59424678ff2 2024-08-06  97267.0  9999   \n",
       "\n",
       "   sales_numeric null_sale null_zipcode  sales_final  \n",
       "0            3.0        no           no          3.0  \n",
       "1         9999.0        si           no          NaN  "
      ]
     },
     "execution_count": 161,
     "metadata": {},
     "output_type": "execute_result"
    }
   ],
   "source": [
    "sales_df.head(2)"
   ]
  },
  {
   "cell_type": "code",
   "execution_count": 124,
   "metadata": {},
   "outputs": [
    {
     "data": {
      "text/plain": [
       "(5, 2)"
      ]
     },
     "execution_count": 124,
     "metadata": {},
     "output_type": "execute_result"
    }
   ],
   "source": [
    "# me aseguro que no tengan espacios\n",
    "sales_df['country']=sales_df['country'].str.strip()\n",
    "geo_df['country']=geo_df['country'].str.strip()\n",
    "\n",
    "sales_df['country'].nunique(),geo_df['country'].nunique()"
   ]
  },
  {
   "cell_type": "code",
   "execution_count": 150,
   "metadata": {},
   "outputs": [
    {
     "data": {
      "text/plain": [
       "(country\n",
       " M    0.770939\n",
       " B    0.229061\n",
       " Name: proportion, dtype: float64,\n",
       " country\n",
       " B     0.651233\n",
       " M     0.295164\n",
       " A     0.048959\n",
       " C     0.003211\n",
       " CO    0.001434\n",
       " Name: proportion, dtype: float64)"
      ]
     },
     "execution_count": 150,
     "metadata": {},
     "output_type": "execute_result"
    }
   ],
   "source": [
    "geo_df['country'].value_counts(1),sales_df['country'].value_counts(1)"
   ]
  },
  {
   "cell_type": "code",
   "execution_count": 171,
   "metadata": {},
   "outputs": [
    {
     "data": {
      "text/html": [
       "<div>\n",
       "<style scoped>\n",
       "    .dataframe tbody tr th:only-of-type {\n",
       "        vertical-align: middle;\n",
       "    }\n",
       "\n",
       "    .dataframe tbody tr th {\n",
       "        vertical-align: top;\n",
       "    }\n",
       "\n",
       "    .dataframe thead th {\n",
       "        text-align: right;\n",
       "    }\n",
       "</style>\n",
       "<table border=\"1\" class=\"dataframe\">\n",
       "  <thead>\n",
       "    <tr style=\"text-align: right;\">\n",
       "      <th></th>\n",
       "      <th>total_ventas</th>\n",
       "    </tr>\n",
       "    <tr>\n",
       "      <th>country</th>\n",
       "      <th></th>\n",
       "    </tr>\n",
       "  </thead>\n",
       "  <tbody>\n",
       "    <tr>\n",
       "      <th>B</th>\n",
       "      <td>0.648651</td>\n",
       "    </tr>\n",
       "    <tr>\n",
       "      <th>M</th>\n",
       "      <td>0.943575</td>\n",
       "    </tr>\n",
       "    <tr>\n",
       "      <th>A</th>\n",
       "      <td>0.992685</td>\n",
       "    </tr>\n",
       "    <tr>\n",
       "      <th>C</th>\n",
       "      <td>0.998598</td>\n",
       "    </tr>\n",
       "    <tr>\n",
       "      <th>CO</th>\n",
       "      <td>1.000000</td>\n",
       "    </tr>\n",
       "  </tbody>\n",
       "</table>\n",
       "</div>"
      ],
      "text/plain": [
       "         total_ventas\n",
       "country              \n",
       "B            0.648651\n",
       "M            0.943575\n",
       "A            0.992685\n",
       "C            0.998598\n",
       "CO           1.000000"
      ]
     },
     "execution_count": 171,
     "metadata": {},
     "output_type": "execute_result"
    }
   ],
   "source": [
    "## ventas acumuladas\n",
    "sales_df.groupby(['country']).agg(\n",
    "    total_ventas=('sales_final','sum'),\n",
    "    ).sort_values(\n",
    "        ['total_ventas'],ascending=False).cumsum()/sales_df['sales_final'].sum()"
   ]
  },
  {
   "cell_type": "code",
   "execution_count": 9,
   "metadata": {},
   "outputs": [
    {
     "data": {
      "text/plain": [
       "country\n",
       "B     0.651233\n",
       "M     0.946397\n",
       "A     0.995355\n",
       "C     0.998566\n",
       "CO    1.000000\n",
       "Name: proportion, dtype: float64"
      ]
     },
     "execution_count": 9,
     "metadata": {},
     "output_type": "execute_result"
    }
   ],
   "source": [
    "# transacciones acumuladas\n",
    "sales_df['country'].value_counts(1).cumsum()"
   ]
  },
  {
   "cell_type": "code",
   "execution_count": 151,
   "metadata": {},
   "outputs": [],
   "source": [
    "## se observa que la base geo df solo tiene 2 paises y que la base de sale el country B y M acumula cerca del 95% de las ventas \n",
    "## A modo de simplificar el problema y por falta de informacion para los demas paises se decide avanzar con los country B y M"
   ]
  },
  {
   "cell_type": "code",
   "execution_count": 14,
   "metadata": {},
   "outputs": [
    {
     "data": {
      "text/html": [
       "<div>\n",
       "<style scoped>\n",
       "    .dataframe tbody tr th:only-of-type {\n",
       "        vertical-align: middle;\n",
       "    }\n",
       "\n",
       "    .dataframe tbody tr th {\n",
       "        vertical-align: top;\n",
       "    }\n",
       "\n",
       "    .dataframe thead th {\n",
       "        text-align: right;\n",
       "    }\n",
       "</style>\n",
       "<table border=\"1\" class=\"dataframe\">\n",
       "  <thead>\n",
       "    <tr style=\"text-align: right;\">\n",
       "      <th></th>\n",
       "      <th>country</th>\n",
       "      <th>product_id</th>\n",
       "      <th>date</th>\n",
       "      <th>zipcode</th>\n",
       "      <th>sales</th>\n",
       "      <th>sales_numeric</th>\n",
       "      <th>null_zipcode</th>\n",
       "      <th>sales_final</th>\n",
       "    </tr>\n",
       "  </thead>\n",
       "  <tbody>\n",
       "    <tr>\n",
       "      <th>0</th>\n",
       "      <td>M</td>\n",
       "      <td>bded4d22-a25e-4b42-b9d6-41d3b1a5f71b</td>\n",
       "      <td>2024-07-21</td>\n",
       "      <td>85890.0</td>\n",
       "      <td>3.0</td>\n",
       "      <td>3.0</td>\n",
       "      <td>no</td>\n",
       "      <td>3.0</td>\n",
       "    </tr>\n",
       "    <tr>\n",
       "      <th>1</th>\n",
       "      <td>M</td>\n",
       "      <td>0310455e-2ec8-4e02-8a12-b59424678ff2</td>\n",
       "      <td>2024-08-06</td>\n",
       "      <td>97267.0</td>\n",
       "      <td>9999</td>\n",
       "      <td>9999.0</td>\n",
       "      <td>no</td>\n",
       "      <td>NaN</td>\n",
       "    </tr>\n",
       "  </tbody>\n",
       "</table>\n",
       "</div>"
      ],
      "text/plain": [
       "  country                            product_id       date  zipcode sales  \\\n",
       "0       M  bded4d22-a25e-4b42-b9d6-41d3b1a5f71b 2024-07-21  85890.0   3.0   \n",
       "1       M  0310455e-2ec8-4e02-8a12-b59424678ff2 2024-08-06  97267.0  9999   \n",
       "\n",
       "   sales_numeric null_zipcode  sales_final  \n",
       "0            3.0           no          3.0  \n",
       "1         9999.0           no          NaN  "
      ]
     },
     "execution_count": 14,
     "metadata": {},
     "output_type": "execute_result"
    }
   ],
   "source": [
    "sales_df.head(2)"
   ]
  },
  {
   "cell_type": "code",
   "execution_count": 15,
   "metadata": {},
   "outputs": [
    {
     "data": {
      "text/html": [
       "<div>\n",
       "<style scoped>\n",
       "    .dataframe tbody tr th:only-of-type {\n",
       "        vertical-align: middle;\n",
       "    }\n",
       "\n",
       "    .dataframe tbody tr th {\n",
       "        vertical-align: top;\n",
       "    }\n",
       "\n",
       "    .dataframe thead th {\n",
       "        text-align: right;\n",
       "    }\n",
       "</style>\n",
       "<table border=\"1\" class=\"dataframe\">\n",
       "  <thead>\n",
       "    <tr style=\"text-align: right;\">\n",
       "      <th></th>\n",
       "      <th>country</th>\n",
       "      <th>s_zipcode</th>\n",
       "      <th>e_zipcode</th>\n",
       "      <th>city</th>\n",
       "    </tr>\n",
       "  </thead>\n",
       "  <tbody>\n",
       "    <tr>\n",
       "      <th>0</th>\n",
       "      <td>B</td>\n",
       "      <td>63700000</td>\n",
       "      <td>63740000</td>\n",
       "      <td>B1</td>\n",
       "    </tr>\n",
       "    <tr>\n",
       "      <th>1</th>\n",
       "      <td>B</td>\n",
       "      <td>57968000</td>\n",
       "      <td>57980000</td>\n",
       "      <td>B1</td>\n",
       "    </tr>\n",
       "    <tr>\n",
       "      <th>2</th>\n",
       "      <td>B</td>\n",
       "      <td>46966970</td>\n",
       "      <td>46970000</td>\n",
       "      <td>B1</td>\n",
       "    </tr>\n",
       "    <tr>\n",
       "      <th>3</th>\n",
       "      <td>B</td>\n",
       "      <td>44600000</td>\n",
       "      <td>44640000</td>\n",
       "      <td>B1</td>\n",
       "    </tr>\n",
       "    <tr>\n",
       "      <th>4</th>\n",
       "      <td>B</td>\n",
       "      <td>49670000</td>\n",
       "      <td>49700000</td>\n",
       "      <td>B1</td>\n",
       "    </tr>\n",
       "  </tbody>\n",
       "</table>\n",
       "</div>"
      ],
      "text/plain": [
       "  country  s_zipcode  e_zipcode city\n",
       "0       B   63700000   63740000   B1\n",
       "1       B   57968000   57980000   B1\n",
       "2       B   46966970   46970000   B1\n",
       "3       B   44600000   44640000   B1\n",
       "4       B   49670000   49700000   B1"
      ]
     },
     "execution_count": 15,
     "metadata": {},
     "output_type": "execute_result"
    }
   ],
   "source": [
    "geo_df.head()"
   ]
  },
  {
   "cell_type": "markdown",
   "metadata": {},
   "source": [
    "### Union de bases"
   ]
  },
  {
   "cell_type": "code",
   "execution_count": 224,
   "metadata": {},
   "outputs": [],
   "source": [
    "## se aplica los criterios anteriormente mencionados\n",
    "\n",
    "df_sale_=sales_df[(sales_df['country'].isin(['B','M']))\n",
    "         &(~((sales_df['sales_final'].isnull())&(sales_df['zipcode'].isnull())))].copy()"
   ]
  },
  {
   "cell_type": "code",
   "execution_count": 46,
   "metadata": {},
   "outputs": [
    {
     "data": {
      "text/plain": [
       "(country\n",
       " B    148051\n",
       " M     67104\n",
       " Name: count, dtype: int64,\n",
       " country\n",
       " B     148061\n",
       " M      67107\n",
       " A      11131\n",
       " C        730\n",
       " CO       326\n",
       " Name: count, dtype: int64)"
      ]
     },
     "execution_count": 46,
     "metadata": {},
     "output_type": "execute_result"
    }
   ],
   "source": [
    "df_sale_.country.value_counts(),sales_df.country.value_counts()"
   ]
  },
  {
   "cell_type": "code",
   "execution_count": 47,
   "metadata": {},
   "outputs": [
    {
     "data": {
      "text/html": [
       "<div>\n",
       "<style scoped>\n",
       "    .dataframe tbody tr th:only-of-type {\n",
       "        vertical-align: middle;\n",
       "    }\n",
       "\n",
       "    .dataframe tbody tr th {\n",
       "        vertical-align: top;\n",
       "    }\n",
       "\n",
       "    .dataframe thead th {\n",
       "        text-align: right;\n",
       "    }\n",
       "</style>\n",
       "<table border=\"1\" class=\"dataframe\">\n",
       "  <thead>\n",
       "    <tr style=\"text-align: right;\">\n",
       "      <th>null_sale</th>\n",
       "      <th>no</th>\n",
       "      <th>si</th>\n",
       "      <th>All</th>\n",
       "    </tr>\n",
       "    <tr>\n",
       "      <th>null_zipcode</th>\n",
       "      <th></th>\n",
       "      <th></th>\n",
       "      <th></th>\n",
       "    </tr>\n",
       "  </thead>\n",
       "  <tbody>\n",
       "    <tr>\n",
       "      <th>no</th>\n",
       "      <td>177117</td>\n",
       "      <td>37997</td>\n",
       "      <td>215114</td>\n",
       "    </tr>\n",
       "    <tr>\n",
       "      <th>si</th>\n",
       "      <td>41</td>\n",
       "      <td>0</td>\n",
       "      <td>41</td>\n",
       "    </tr>\n",
       "    <tr>\n",
       "      <th>All</th>\n",
       "      <td>177158</td>\n",
       "      <td>37997</td>\n",
       "      <td>215155</td>\n",
       "    </tr>\n",
       "  </tbody>\n",
       "</table>\n",
       "</div>"
      ],
      "text/plain": [
       "null_sale         no     si     All\n",
       "null_zipcode                       \n",
       "no            177117  37997  215114\n",
       "si                41      0      41\n",
       "All           177158  37997  215155"
      ]
     },
     "execution_count": 47,
     "metadata": {},
     "output_type": "execute_result"
    }
   ],
   "source": [
    "pd.crosstab(index=df_sale_['null_zipcode'],\n",
    "            columns=df_sale_['null_sale'],\n",
    "            #normalize='index',\n",
    "            margins=True)\n",
    "\n",
    "## se observa que el criterio se refleja en la tabla\n",
    "## se observa 41 registros que no tienen zipcode y si ventas , esto representa menos del 0.001% por lo tanto se decide descartar estos registros"
   ]
  },
  {
   "cell_type": "code",
   "execution_count": 44,
   "metadata": {},
   "outputs": [
    {
     "data": {
      "text/html": [
       "<div>\n",
       "<style scoped>\n",
       "    .dataframe tbody tr th:only-of-type {\n",
       "        vertical-align: middle;\n",
       "    }\n",
       "\n",
       "    .dataframe tbody tr th {\n",
       "        vertical-align: top;\n",
       "    }\n",
       "\n",
       "    .dataframe thead th {\n",
       "        text-align: right;\n",
       "    }\n",
       "</style>\n",
       "<table border=\"1\" class=\"dataframe\">\n",
       "  <thead>\n",
       "    <tr style=\"text-align: right;\">\n",
       "      <th>null_sale</th>\n",
       "      <th>no</th>\n",
       "      <th>si</th>\n",
       "      <th>All</th>\n",
       "    </tr>\n",
       "    <tr>\n",
       "      <th>null_zipcode</th>\n",
       "      <th></th>\n",
       "      <th></th>\n",
       "      <th></th>\n",
       "    </tr>\n",
       "  </thead>\n",
       "  <tbody>\n",
       "    <tr>\n",
       "      <th>no</th>\n",
       "      <td>0.999769</td>\n",
       "      <td>1.0</td>\n",
       "      <td>0.999809</td>\n",
       "    </tr>\n",
       "    <tr>\n",
       "      <th>si</th>\n",
       "      <td>0.000231</td>\n",
       "      <td>0.0</td>\n",
       "      <td>0.000191</td>\n",
       "    </tr>\n",
       "  </tbody>\n",
       "</table>\n",
       "</div>"
      ],
      "text/plain": [
       "null_sale           no   si       All\n",
       "null_zipcode                         \n",
       "no            0.999769  1.0  0.999809\n",
       "si            0.000231  0.0  0.000191"
      ]
     },
     "execution_count": 44,
     "metadata": {},
     "output_type": "execute_result"
    }
   ],
   "source": [
    "pd.crosstab(index=df_sale_['null_zipcode'],\n",
    "            columns=df_sale_['null_sale'],\n",
    "            normalize='columns',\n",
    "            margins=True)"
   ]
  },
  {
   "cell_type": "code",
   "execution_count": 125,
   "metadata": {},
   "outputs": [
    {
     "name": "stdout",
     "output_type": "stream",
     "text": [
      "(215114, 9)\n"
     ]
    },
    {
     "data": {
      "text/html": [
       "<div>\n",
       "<style scoped>\n",
       "    .dataframe tbody tr th:only-of-type {\n",
       "        vertical-align: middle;\n",
       "    }\n",
       "\n",
       "    .dataframe tbody tr th {\n",
       "        vertical-align: top;\n",
       "    }\n",
       "\n",
       "    .dataframe thead th {\n",
       "        text-align: right;\n",
       "    }\n",
       "</style>\n",
       "<table border=\"1\" class=\"dataframe\">\n",
       "  <thead>\n",
       "    <tr style=\"text-align: right;\">\n",
       "      <th>null_sale</th>\n",
       "      <th>no</th>\n",
       "      <th>si</th>\n",
       "    </tr>\n",
       "    <tr>\n",
       "      <th>null_zipcode</th>\n",
       "      <th></th>\n",
       "      <th></th>\n",
       "    </tr>\n",
       "  </thead>\n",
       "  <tbody>\n",
       "    <tr>\n",
       "      <th>no</th>\n",
       "      <td>0.823363</td>\n",
       "      <td>0.176637</td>\n",
       "    </tr>\n",
       "    <tr>\n",
       "      <th>All</th>\n",
       "      <td>0.823363</td>\n",
       "      <td>0.176637</td>\n",
       "    </tr>\n",
       "  </tbody>\n",
       "</table>\n",
       "</div>"
      ],
      "text/plain": [
       "null_sale           no        si\n",
       "null_zipcode                    \n",
       "no            0.823363  0.176637\n",
       "All           0.823363  0.176637"
      ]
     },
     "execution_count": 125,
     "metadata": {},
     "output_type": "execute_result"
    }
   ],
   "source": [
    "## se aplica los criterios anteriormente mencionados\n",
    "\n",
    "df_sale_=sales_df[(sales_df['country'].isin(['B','M']))\n",
    "         &(~sales_df['zipcode'].isnull())].copy()\n",
    "\n",
    "df_sale_['zipcode']=df_sale_['zipcode'].astype(int)\n",
    "\n",
    "print(df_sale_.shape)\n",
    "\n",
    "pd.crosstab(index=df_sale_['null_zipcode'],\n",
    "            columns=df_sale_['null_sale'],\n",
    "            normalize='index',\n",
    "            margins=True)"
   ]
  },
  {
   "cell_type": "code",
   "execution_count": 63,
   "metadata": {},
   "outputs": [
    {
     "data": {
      "text/plain": [
       "((239324, 8), (215114, 9))"
      ]
     },
     "execution_count": 63,
     "metadata": {},
     "output_type": "execute_result"
    }
   ],
   "source": [
    "import pandasql as psql\n",
    "\n",
    "## con sql es mas facil hacer este cruce \n",
    "query = \"\"\"\n",
    "SELECT \n",
    "    s.country, \n",
    "    s.product_id, \n",
    "    s.date, \n",
    "    s.zipcode, \n",
    "    s.sales, \n",
    "    g.s_zipcode,\n",
    "    g.e_zipcode,\n",
    "    g.city\n",
    "FROM \n",
    "    df_sale_ s\n",
    "left JOIN \n",
    "    geo_df g\n",
    "ON 1=1\n",
    "    and s.country = g.country \n",
    "    and s.zipcode >= g.s_zipcode \n",
    "    and s.zipcode <= g.e_zipcode\n",
    "\"\"\"\n",
    "\n",
    "# Ejecutar la consulta SQL\n",
    "result_df = psql.sqldf(query, locals())\n",
    "\n",
    "result_df.shape,df_sale_.shape"
   ]
  },
  {
   "cell_type": "code",
   "execution_count": 51,
   "metadata": {},
   "outputs": [
    {
     "data": {
      "text/html": [
       "<div>\n",
       "<style scoped>\n",
       "    .dataframe tbody tr th:only-of-type {\n",
       "        vertical-align: middle;\n",
       "    }\n",
       "\n",
       "    .dataframe tbody tr th {\n",
       "        vertical-align: top;\n",
       "    }\n",
       "\n",
       "    .dataframe thead th {\n",
       "        text-align: right;\n",
       "    }\n",
       "</style>\n",
       "<table border=\"1\" class=\"dataframe\">\n",
       "  <thead>\n",
       "    <tr style=\"text-align: right;\">\n",
       "      <th></th>\n",
       "      <th>country</th>\n",
       "      <th>product_id</th>\n",
       "      <th>date</th>\n",
       "      <th>zipcode</th>\n",
       "      <th>sales</th>\n",
       "      <th>s_zipcode</th>\n",
       "      <th>e_zipcode</th>\n",
       "      <th>city</th>\n",
       "    </tr>\n",
       "  </thead>\n",
       "  <tbody>\n",
       "    <tr>\n",
       "      <th>0</th>\n",
       "      <td>M</td>\n",
       "      <td>bded4d22-a25e-4b42-b9d6-41d3b1a5f71b</td>\n",
       "      <td>2024-07-21 00:00:00.000000</td>\n",
       "      <td>85890.0</td>\n",
       "      <td>3.0</td>\n",
       "      <td>85820.0</td>\n",
       "      <td>85896.0</td>\n",
       "      <td>M2</td>\n",
       "    </tr>\n",
       "    <tr>\n",
       "      <th>1</th>\n",
       "      <td>M</td>\n",
       "      <td>0310455e-2ec8-4e02-8a12-b59424678ff2</td>\n",
       "      <td>2024-08-06 00:00:00.000000</td>\n",
       "      <td>97267.0</td>\n",
       "      <td>9999</td>\n",
       "      <td>97198.0</td>\n",
       "      <td>97337.0</td>\n",
       "      <td>M5</td>\n",
       "    </tr>\n",
       "    <tr>\n",
       "      <th>2</th>\n",
       "      <td>B</td>\n",
       "      <td>c5b9d75d-86bc-4e87-87c4-1d751096d21a</td>\n",
       "      <td>2024-07-10 00:00:00.000000</td>\n",
       "      <td>13212117.0</td>\n",
       "      <td>1.0</td>\n",
       "      <td>13201000.0</td>\n",
       "      <td>13230001.0</td>\n",
       "      <td>B3</td>\n",
       "    </tr>\n",
       "    <tr>\n",
       "      <th>3</th>\n",
       "      <td>B</td>\n",
       "      <td>b7a56357-a4a2-4bdf-94be-cb82636bd7ec</td>\n",
       "      <td>2024-07-12 00:00:00.000000</td>\n",
       "      <td>88340455.0</td>\n",
       "      <td>1.0</td>\n",
       "      <td>88330003.0</td>\n",
       "      <td>88350001.0</td>\n",
       "      <td>B2</td>\n",
       "    </tr>\n",
       "    <tr>\n",
       "      <th>4</th>\n",
       "      <td>B</td>\n",
       "      <td>2aac125e-5623-4206-8161-881a28d7826c</td>\n",
       "      <td>2024-07-19 00:00:00.000000</td>\n",
       "      <td>99840000.0</td>\n",
       "      <td>9999</td>\n",
       "      <td>99725000.0</td>\n",
       "      <td>99840000.0</td>\n",
       "      <td>B2</td>\n",
       "    </tr>\n",
       "  </tbody>\n",
       "</table>\n",
       "</div>"
      ],
      "text/plain": [
       "  country                            product_id                        date  \\\n",
       "0       M  bded4d22-a25e-4b42-b9d6-41d3b1a5f71b  2024-07-21 00:00:00.000000   \n",
       "1       M  0310455e-2ec8-4e02-8a12-b59424678ff2  2024-08-06 00:00:00.000000   \n",
       "2       B  c5b9d75d-86bc-4e87-87c4-1d751096d21a  2024-07-10 00:00:00.000000   \n",
       "3       B  b7a56357-a4a2-4bdf-94be-cb82636bd7ec  2024-07-12 00:00:00.000000   \n",
       "4       B  2aac125e-5623-4206-8161-881a28d7826c  2024-07-19 00:00:00.000000   \n",
       "\n",
       "      zipcode sales   s_zipcode   e_zipcode city  \n",
       "0     85890.0   3.0     85820.0     85896.0   M2  \n",
       "1     97267.0  9999     97198.0     97337.0   M5  \n",
       "2  13212117.0   1.0  13201000.0  13230001.0   B3  \n",
       "3  88340455.0   1.0  88330003.0  88350001.0   B2  \n",
       "4  99840000.0  9999  99725000.0  99840000.0   B2  "
      ]
     },
     "execution_count": 51,
     "metadata": {},
     "output_type": "execute_result"
    }
   ],
   "source": [
    "result_df.head()"
   ]
  },
  {
   "cell_type": "code",
   "execution_count": 59,
   "metadata": {},
   "outputs": [
    {
     "data": {
      "text/plain": [
       "total\n",
       "1    0.984235\n",
       "2    0.015765\n",
       "Name: proportion, dtype: float64"
      ]
     },
     "execution_count": 59,
     "metadata": {},
     "output_type": "execute_result"
    }
   ],
   "source": [
    "# se observa que hay registros duplicados por city \n",
    "\n",
    "result_df.groupby(['product_id','date','zipcode']).agg(total=('city','nunique')).total.value_counts(1)"
   ]
  },
  {
   "cell_type": "code",
   "execution_count": 57,
   "metadata": {},
   "outputs": [
    {
     "data": {
      "text/html": [
       "<div>\n",
       "<style scoped>\n",
       "    .dataframe tbody tr th:only-of-type {\n",
       "        vertical-align: middle;\n",
       "    }\n",
       "\n",
       "    .dataframe tbody tr th {\n",
       "        vertical-align: top;\n",
       "    }\n",
       "\n",
       "    .dataframe thead th {\n",
       "        text-align: right;\n",
       "    }\n",
       "</style>\n",
       "<table border=\"1\" class=\"dataframe\">\n",
       "  <thead>\n",
       "    <tr style=\"text-align: right;\">\n",
       "      <th></th>\n",
       "      <th></th>\n",
       "      <th></th>\n",
       "      <th>total</th>\n",
       "    </tr>\n",
       "    <tr>\n",
       "      <th>product_id</th>\n",
       "      <th>date</th>\n",
       "      <th>zipcode</th>\n",
       "      <th></th>\n",
       "    </tr>\n",
       "  </thead>\n",
       "  <tbody>\n",
       "    <tr>\n",
       "      <th>5de72eab-3078-4d23-8469-027431b2b410</th>\n",
       "      <th>2024-06-23 00:00:00.000000</th>\n",
       "      <th>38260.0</th>\n",
       "      <td>2</td>\n",
       "    </tr>\n",
       "    <tr>\n",
       "      <th>8779965c-df5b-414a-8ec6-b7731e74ba6f</th>\n",
       "      <th>2024-07-16 00:00:00.000000</th>\n",
       "      <th>29180.0</th>\n",
       "      <td>2</td>\n",
       "    </tr>\n",
       "    <tr>\n",
       "      <th>4d9ad337-ffe3-49de-9e79-70c73c574dbe</th>\n",
       "      <th>2024-07-11 00:00:00.000000</th>\n",
       "      <th>29960.0</th>\n",
       "      <td>2</td>\n",
       "    </tr>\n",
       "    <tr>\n",
       "      <th>72b01e61-96b7-4e02-a9b7-99712307f69d</th>\n",
       "      <th>2024-06-29 00:00:00.000000</th>\n",
       "      <th>98710.0</th>\n",
       "      <td>2</td>\n",
       "    </tr>\n",
       "    <tr>\n",
       "      <th>2b6ec472-e060-43ed-b343-cc9052eb11be</th>\n",
       "      <th>2024-07-13 00:00:00.000000</th>\n",
       "      <th>48680000.0</th>\n",
       "      <td>2</td>\n",
       "    </tr>\n",
       "  </tbody>\n",
       "</table>\n",
       "</div>"
      ],
      "text/plain": [
       "                                                                            total\n",
       "product_id                           date                       zipcode          \n",
       "5de72eab-3078-4d23-8469-027431b2b410 2024-06-23 00:00:00.000000 38260.0         2\n",
       "8779965c-df5b-414a-8ec6-b7731e74ba6f 2024-07-16 00:00:00.000000 29180.0         2\n",
       "4d9ad337-ffe3-49de-9e79-70c73c574dbe 2024-07-11 00:00:00.000000 29960.0         2\n",
       "72b01e61-96b7-4e02-a9b7-99712307f69d 2024-06-29 00:00:00.000000 98710.0         2\n",
       "2b6ec472-e060-43ed-b343-cc9052eb11be 2024-07-13 00:00:00.000000 48680000.0      2"
      ]
     },
     "execution_count": 57,
     "metadata": {},
     "output_type": "execute_result"
    }
   ],
   "source": [
    "result_df.groupby(['product_id','date','zipcode']).agg(total=('city','nunique')).sort_values('total',ascending=False).head()"
   ]
  },
  {
   "cell_type": "code",
   "execution_count": 71,
   "metadata": {},
   "outputs": [
    {
     "data": {
      "text/html": [
       "<div>\n",
       "<style scoped>\n",
       "    .dataframe tbody tr th:only-of-type {\n",
       "        vertical-align: middle;\n",
       "    }\n",
       "\n",
       "    .dataframe tbody tr th {\n",
       "        vertical-align: top;\n",
       "    }\n",
       "\n",
       "    .dataframe thead th {\n",
       "        text-align: right;\n",
       "    }\n",
       "</style>\n",
       "<table border=\"1\" class=\"dataframe\">\n",
       "  <thead>\n",
       "    <tr style=\"text-align: right;\">\n",
       "      <th></th>\n",
       "      <th>country</th>\n",
       "      <th>product_id</th>\n",
       "      <th>date</th>\n",
       "      <th>zipcode</th>\n",
       "      <th>sales</th>\n",
       "      <th>s_zipcode</th>\n",
       "      <th>e_zipcode</th>\n",
       "      <th>city</th>\n",
       "    </tr>\n",
       "  </thead>\n",
       "  <tbody>\n",
       "    <tr>\n",
       "      <th>101106</th>\n",
       "      <td>M</td>\n",
       "      <td>5de72eab-3078-4d23-8469-027431b2b410</td>\n",
       "      <td>2024-06-23 00:00:00.000000</td>\n",
       "      <td>38260.0</td>\n",
       "      <td>2.0</td>\n",
       "      <td>38256</td>\n",
       "      <td>38260</td>\n",
       "      <td>M3</td>\n",
       "    </tr>\n",
       "    <tr>\n",
       "      <th>101107</th>\n",
       "      <td>M</td>\n",
       "      <td>5de72eab-3078-4d23-8469-027431b2b410</td>\n",
       "      <td>2024-06-23 00:00:00.000000</td>\n",
       "      <td>38260.0</td>\n",
       "      <td>2.0</td>\n",
       "      <td>38260</td>\n",
       "      <td>38265</td>\n",
       "      <td>M1</td>\n",
       "    </tr>\n",
       "  </tbody>\n",
       "</table>\n",
       "</div>"
      ],
      "text/plain": [
       "       country                            product_id  \\\n",
       "101106       M  5de72eab-3078-4d23-8469-027431b2b410   \n",
       "101107       M  5de72eab-3078-4d23-8469-027431b2b410   \n",
       "\n",
       "                              date  zipcode sales  s_zipcode  e_zipcode city  \n",
       "101106  2024-06-23 00:00:00.000000  38260.0   2.0      38256      38260   M3  \n",
       "101107  2024-06-23 00:00:00.000000  38260.0   2.0      38260      38265   M1  "
      ]
     },
     "execution_count": 71,
     "metadata": {},
     "output_type": "execute_result"
    }
   ],
   "source": [
    "result_df[(result_df[\"product_id\"]=='5de72eab-3078-4d23-8469-027431b2b410')&\n",
    "          (result_df[\"date\"]=='2024-06-23 00:00:00.000000')&\n",
    "          (result_df[\"zipcode\"]==38260.0)].head()\n",
    "\n",
    "# se aprecia que los rango de zipcode conciden s_zipcode M1 es igual a e_zipcode de M3"
   ]
  },
  {
   "cell_type": "code",
   "execution_count": 85,
   "metadata": {},
   "outputs": [
    {
     "data": {
      "text/html": [
       "<div>\n",
       "<style scoped>\n",
       "    .dataframe tbody tr th:only-of-type {\n",
       "        vertical-align: middle;\n",
       "    }\n",
       "\n",
       "    .dataframe tbody tr th {\n",
       "        vertical-align: top;\n",
       "    }\n",
       "\n",
       "    .dataframe thead th {\n",
       "        text-align: right;\n",
       "    }\n",
       "</style>\n",
       "<table border=\"1\" class=\"dataframe\">\n",
       "  <thead>\n",
       "    <tr style=\"text-align: right;\">\n",
       "      <th></th>\n",
       "      <th>country</th>\n",
       "      <th>s_zipcode</th>\n",
       "      <th>e_zipcode</th>\n",
       "      <th>city</th>\n",
       "    </tr>\n",
       "  </thead>\n",
       "  <tbody>\n",
       "    <tr>\n",
       "      <th>6236</th>\n",
       "      <td>M</td>\n",
       "      <td>0</td>\n",
       "      <td>1000</td>\n",
       "      <td>M3</td>\n",
       "    </tr>\n",
       "    <tr>\n",
       "      <th>5634</th>\n",
       "      <td>M</td>\n",
       "      <td>1000</td>\n",
       "      <td>1010</td>\n",
       "      <td>M3</td>\n",
       "    </tr>\n",
       "    <tr>\n",
       "      <th>4629</th>\n",
       "      <td>M</td>\n",
       "      <td>1010</td>\n",
       "      <td>1020</td>\n",
       "      <td>M3</td>\n",
       "    </tr>\n",
       "    <tr>\n",
       "      <th>6825</th>\n",
       "      <td>M</td>\n",
       "      <td>1020</td>\n",
       "      <td>1080</td>\n",
       "      <td>M3</td>\n",
       "    </tr>\n",
       "    <tr>\n",
       "      <th>8545</th>\n",
       "      <td>M</td>\n",
       "      <td>1080</td>\n",
       "      <td>1089</td>\n",
       "      <td>M3</td>\n",
       "    </tr>\n",
       "  </tbody>\n",
       "</table>\n",
       "</div>"
      ],
      "text/plain": [
       "     country  s_zipcode  e_zipcode city\n",
       "6236       M          0       1000   M3\n",
       "5634       M       1000       1010   M3\n",
       "4629       M       1010       1020   M3\n",
       "6825       M       1020       1080   M3\n",
       "8545       M       1080       1089   M3"
      ]
     },
     "execution_count": 85,
     "metadata": {},
     "output_type": "execute_result"
    }
   ],
   "source": [
    "geo_df.sort_values(['country','e_zipcode','city'],ascending=[False,True,True]).head()\n",
    "## se aprecia que s_zipcode incluye el 0 va hasta e_zipcode <1000\n",
    "## Pero para el ultimo e_zipcode tiene que incluir el 9999 \n"
   ]
  },
  {
   "cell_type": "code",
   "execution_count": 126,
   "metadata": {},
   "outputs": [
    {
     "data": {
      "text/plain": [
       "((215114, 8), (215114, 9))"
      ]
     },
     "execution_count": 126,
     "metadata": {},
     "output_type": "execute_result"
    }
   ],
   "source": [
    "## Se aplica una correcion a la query \n",
    "query = \"\"\"\n",
    "SELECT \n",
    "    s.country, \n",
    "    s.product_id, \n",
    "    s.date, \n",
    "    s.zipcode, \n",
    "    s.sales, \n",
    "    g.s_zipcode,\n",
    "    g.e_zipcode,\n",
    "    g.city\n",
    "FROM \n",
    "    df_sale_ s\n",
    "left JOIN \n",
    "    geo_df g\n",
    "ON 1=1\n",
    "    and s.country = g.country \n",
    "    and s.zipcode >= g.s_zipcode \n",
    "    and (s.zipcode < g.e_zipcode or (s.country='M' and s.zipcode=99999) or (s.country='B' and s.zipcode=99999999))\n",
    "\"\"\"\n",
    "\n",
    "# Ejecutar la consulta SQL\n",
    "result_df_2 = psql.sqldf(query, locals())\n",
    "\n",
    "result_df_2.shape,df_sale_.shape"
   ]
  },
  {
   "cell_type": "code",
   "execution_count": 127,
   "metadata": {},
   "outputs": [
    {
     "data": {
      "text/html": [
       "<div>\n",
       "<style scoped>\n",
       "    .dataframe tbody tr th:only-of-type {\n",
       "        vertical-align: middle;\n",
       "    }\n",
       "\n",
       "    .dataframe tbody tr th {\n",
       "        vertical-align: top;\n",
       "    }\n",
       "\n",
       "    .dataframe thead th {\n",
       "        text-align: right;\n",
       "    }\n",
       "</style>\n",
       "<table border=\"1\" class=\"dataframe\">\n",
       "  <thead>\n",
       "    <tr style=\"text-align: right;\">\n",
       "      <th></th>\n",
       "      <th>country</th>\n",
       "      <th>product_id</th>\n",
       "      <th>date</th>\n",
       "      <th>zipcode</th>\n",
       "      <th>sales</th>\n",
       "      <th>s_zipcode</th>\n",
       "      <th>e_zipcode</th>\n",
       "      <th>city</th>\n",
       "    </tr>\n",
       "  </thead>\n",
       "  <tbody>\n",
       "    <tr>\n",
       "      <th>0</th>\n",
       "      <td>M</td>\n",
       "      <td>bded4d22-a25e-4b42-b9d6-41d3b1a5f71b</td>\n",
       "      <td>2024-07-21</td>\n",
       "      <td>85890</td>\n",
       "      <td>3.0</td>\n",
       "      <td>85820</td>\n",
       "      <td>85896</td>\n",
       "      <td>M2</td>\n",
       "    </tr>\n",
       "    <tr>\n",
       "      <th>1</th>\n",
       "      <td>M</td>\n",
       "      <td>0310455e-2ec8-4e02-8a12-b59424678ff2</td>\n",
       "      <td>2024-08-06</td>\n",
       "      <td>97267</td>\n",
       "      <td>9999</td>\n",
       "      <td>97198</td>\n",
       "      <td>97337</td>\n",
       "      <td>M5</td>\n",
       "    </tr>\n",
       "    <tr>\n",
       "      <th>2</th>\n",
       "      <td>B</td>\n",
       "      <td>c5b9d75d-86bc-4e87-87c4-1d751096d21a</td>\n",
       "      <td>2024-07-10</td>\n",
       "      <td>13212117</td>\n",
       "      <td>1.0</td>\n",
       "      <td>13201000</td>\n",
       "      <td>13230001</td>\n",
       "      <td>B3</td>\n",
       "    </tr>\n",
       "    <tr>\n",
       "      <th>3</th>\n",
       "      <td>B</td>\n",
       "      <td>b7a56357-a4a2-4bdf-94be-cb82636bd7ec</td>\n",
       "      <td>2024-07-12</td>\n",
       "      <td>88340455</td>\n",
       "      <td>1.0</td>\n",
       "      <td>88330003</td>\n",
       "      <td>88350001</td>\n",
       "      <td>B2</td>\n",
       "    </tr>\n",
       "    <tr>\n",
       "      <th>4</th>\n",
       "      <td>B</td>\n",
       "      <td>2aac125e-5623-4206-8161-881a28d7826c</td>\n",
       "      <td>2024-07-19</td>\n",
       "      <td>99840000</td>\n",
       "      <td>9999</td>\n",
       "      <td>99840000</td>\n",
       "      <td>99910000</td>\n",
       "      <td>B2</td>\n",
       "    </tr>\n",
       "  </tbody>\n",
       "</table>\n",
       "</div>"
      ],
      "text/plain": [
       "  country                            product_id        date   zipcode sales  \\\n",
       "0       M  bded4d22-a25e-4b42-b9d6-41d3b1a5f71b  2024-07-21     85890   3.0   \n",
       "1       M  0310455e-2ec8-4e02-8a12-b59424678ff2  2024-08-06     97267  9999   \n",
       "2       B  c5b9d75d-86bc-4e87-87c4-1d751096d21a  2024-07-10  13212117   1.0   \n",
       "3       B  b7a56357-a4a2-4bdf-94be-cb82636bd7ec  2024-07-12  88340455   1.0   \n",
       "4       B  2aac125e-5623-4206-8161-881a28d7826c  2024-07-19  99840000  9999   \n",
       "\n",
       "   s_zipcode  e_zipcode city  \n",
       "0      85820      85896   M2  \n",
       "1      97198      97337   M5  \n",
       "2   13201000   13230001   B3  \n",
       "3   88330003   88350001   B2  \n",
       "4   99840000   99910000   B2  "
      ]
     },
     "execution_count": 127,
     "metadata": {},
     "output_type": "execute_result"
    }
   ],
   "source": [
    "result_df_2.head()"
   ]
  },
  {
   "cell_type": "code",
   "execution_count": 143,
   "metadata": {},
   "outputs": [],
   "source": [
    "result_df_2['sales_numeric']=pd.to_numeric(result_df_2['sales'],errors='coerce')\n",
    "result_df_2['sales_final']=np.where(result_df_2['sales_numeric'].isin([9999,np.nan]),np.nan,result_df_2['sales_numeric'])\n",
    "result_df_2['date'] = pd.to_datetime(result_df_2['date'])"
   ]
  },
  {
   "cell_type": "code",
   "execution_count": 129,
   "metadata": {},
   "outputs": [
    {
     "data": {
      "text/html": [
       "<div>\n",
       "<style scoped>\n",
       "    .dataframe tbody tr th:only-of-type {\n",
       "        vertical-align: middle;\n",
       "    }\n",
       "\n",
       "    .dataframe tbody tr th {\n",
       "        vertical-align: top;\n",
       "    }\n",
       "\n",
       "    .dataframe thead th {\n",
       "        text-align: right;\n",
       "    }\n",
       "</style>\n",
       "<table border=\"1\" class=\"dataframe\">\n",
       "  <thead>\n",
       "    <tr style=\"text-align: right;\">\n",
       "      <th></th>\n",
       "      <th>count</th>\n",
       "      <th>mean</th>\n",
       "      <th>std</th>\n",
       "      <th>min</th>\n",
       "      <th>10%</th>\n",
       "      <th>20%</th>\n",
       "      <th>30%</th>\n",
       "      <th>40%</th>\n",
       "      <th>50%</th>\n",
       "      <th>60%</th>\n",
       "      <th>70%</th>\n",
       "      <th>80%</th>\n",
       "      <th>90%</th>\n",
       "      <th>max</th>\n",
       "    </tr>\n",
       "  </thead>\n",
       "  <tbody>\n",
       "    <tr>\n",
       "      <th>ventas</th>\n",
       "      <td>2951.0</td>\n",
       "      <td>76.165707</td>\n",
       "      <td>315.274469</td>\n",
       "      <td>0.0</td>\n",
       "      <td>2.0</td>\n",
       "      <td>4.0</td>\n",
       "      <td>6.0</td>\n",
       "      <td>10.0</td>\n",
       "      <td>15.0</td>\n",
       "      <td>24.0</td>\n",
       "      <td>39.0</td>\n",
       "      <td>69.0</td>\n",
       "      <td>155.0</td>\n",
       "      <td>11037.0</td>\n",
       "    </tr>\n",
       "  </tbody>\n",
       "</table>\n",
       "</div>"
      ],
      "text/plain": [
       "         count       mean         std  min  10%  20%  30%   40%   50%   60%  \\\n",
       "ventas  2951.0  76.165707  315.274469  0.0  2.0  4.0  6.0  10.0  15.0  24.0   \n",
       "\n",
       "         70%   80%    90%      max  \n",
       "ventas  39.0  69.0  155.0  11037.0  "
      ]
     },
     "execution_count": 129,
     "metadata": {},
     "output_type": "execute_result"
    }
   ],
   "source": [
    "result_df_2.groupby(['product_id','city']).agg(ventas=('sales_final','sum')).describe([i/100 for i in range(10,100,10)]).T\n"
   ]
  },
  {
   "cell_type": "code",
   "execution_count": 229,
   "metadata": {},
   "outputs": [
    {
     "data": {
      "image/png": "[encoded data removed]",
      "text/plain": [
       "<Figure size 1500x300 with 1 Axes>"
      ]
     },
     "metadata": {},
     "output_type": "display_data"
    }
   ],
   "source": [
    "import matplotlib.pyplot as plt\n",
    "\n",
    "# Crear la figura y los ejes\n",
    "fig, ax = plt.subplots(figsize=(15, 3))\n",
    "\n",
    "for country in result_df_2['country'].unique():\n",
    "    country_df = result_df_2[result_df_2['country'] == country]\n",
    "    # Agrupar y graficar con etiqueta de país\n",
    "    ax.plot(country_df.groupby(['date']).agg(ventas=('sales_final', 'sum')).sort_index(), label=country)\n",
    "\n",
    "\n",
    "ax.legend(title='Country')\n",
    "\n",
    "plt.xticks(rotation=45)\n",
    "ax.grid(False)\n",
    "plt.show()\n",
    "## se aprecia una similitud en el comportamiento estacional entre los paises "
   ]
  },
  {
   "cell_type": "code",
   "execution_count": 150,
   "metadata": {},
   "outputs": [
    {
     "data": {
      "text/html": [
       "<div>\n",
       "<style scoped>\n",
       "    .dataframe tbody tr th:only-of-type {\n",
       "        vertical-align: middle;\n",
       "    }\n",
       "\n",
       "    .dataframe tbody tr th {\n",
       "        vertical-align: top;\n",
       "    }\n",
       "\n",
       "    .dataframe thead th {\n",
       "        text-align: right;\n",
       "    }\n",
       "</style>\n",
       "<table border=\"1\" class=\"dataframe\">\n",
       "  <thead>\n",
       "    <tr style=\"text-align: right;\">\n",
       "      <th></th>\n",
       "      <th></th>\n",
       "      <th>ventas</th>\n",
       "    </tr>\n",
       "    <tr>\n",
       "      <th>product_id</th>\n",
       "      <th>city</th>\n",
       "      <th></th>\n",
       "    </tr>\n",
       "  </thead>\n",
       "  <tbody>\n",
       "    <tr>\n",
       "      <th>fedef20d-4e40-42e3-968d-e5042b32c180</th>\n",
       "      <th>B3</th>\n",
       "      <td>0.0</td>\n",
       "    </tr>\n",
       "    <tr>\n",
       "      <th>cc5f6261-0ea3-45a0-b298-510b4421d470</th>\n",
       "      <th>B1</th>\n",
       "      <td>0.0</td>\n",
       "    </tr>\n",
       "    <tr>\n",
       "      <th>82de61da-c840-428d-acc1-2282895d3e96</th>\n",
       "      <th>M2</th>\n",
       "      <td>0.0</td>\n",
       "    </tr>\n",
       "    <tr>\n",
       "      <th>7e555914-eddf-410e-8224-c57f8ef85dcc</th>\n",
       "      <th>M1</th>\n",
       "      <td>0.0</td>\n",
       "    </tr>\n",
       "    <tr>\n",
       "      <th>78df70b4-c2da-41f4-8e52-e9c3cbf30866</th>\n",
       "      <th>B1</th>\n",
       "      <td>0.0</td>\n",
       "    </tr>\n",
       "  </tbody>\n",
       "</table>\n",
       "</div>"
      ],
      "text/plain": [
       "                                           ventas\n",
       "product_id                           city        \n",
       "fedef20d-4e40-42e3-968d-e5042b32c180 B3       0.0\n",
       "cc5f6261-0ea3-45a0-b298-510b4421d470 B1       0.0\n",
       "82de61da-c840-428d-acc1-2282895d3e96 M2       0.0\n",
       "7e555914-eddf-410e-8224-c57f8ef85dcc M1       0.0\n",
       "78df70b4-c2da-41f4-8e52-e9c3cbf30866 B1       0.0"
      ]
     },
     "execution_count": 150,
     "metadata": {},
     "output_type": "execute_result"
    }
   ],
   "source": [
    "result_df_2.groupby(['product_id','city']).agg(ventas=('sales_final','sum')).sort_values('ventas').head()"
   ]
  },
  {
   "cell_type": "code",
   "execution_count": 151,
   "metadata": {},
   "outputs": [],
   "source": [
    "result_df_2['null_sale']=np.where(result_df_2['sales_final'].isin([np.nan]),'si','no')"
   ]
  },
  {
   "cell_type": "code",
   "execution_count": 175,
   "metadata": {},
   "outputs": [
    {
     "data": {
      "text/html": [
       "<div>\n",
       "<style scoped>\n",
       "    .dataframe tbody tr th:only-of-type {\n",
       "        vertical-align: middle;\n",
       "    }\n",
       "\n",
       "    .dataframe tbody tr th {\n",
       "        vertical-align: top;\n",
       "    }\n",
       "\n",
       "    .dataframe thead th {\n",
       "        text-align: right;\n",
       "    }\n",
       "</style>\n",
       "<table border=\"1\" class=\"dataframe\">\n",
       "  <thead>\n",
       "    <tr style=\"text-align: right;\">\n",
       "      <th>null_sale</th>\n",
       "      <th>product_id</th>\n",
       "      <th>city</th>\n",
       "      <th>date</th>\n",
       "      <th>no</th>\n",
       "      <th>si</th>\n",
       "    </tr>\n",
       "  </thead>\n",
       "  <tbody>\n",
       "    <tr>\n",
       "      <th>12100</th>\n",
       "      <td>49c37155-4d51-4711-b4fb-b76b4f4f8f26</td>\n",
       "      <td>B3</td>\n",
       "      <td>2024-07-11</td>\n",
       "      <td>570</td>\n",
       "      <td>116</td>\n",
       "    </tr>\n",
       "    <tr>\n",
       "      <th>12098</th>\n",
       "      <td>49c37155-4d51-4711-b4fb-b76b4f4f8f26</td>\n",
       "      <td>B3</td>\n",
       "      <td>2024-07-09</td>\n",
       "      <td>480</td>\n",
       "      <td>101</td>\n",
       "    </tr>\n",
       "    <tr>\n",
       "      <th>44098</th>\n",
       "      <td>fb60ac97-2463-4245-b533-337e2fcef4af</td>\n",
       "      <td>B3</td>\n",
       "      <td>2024-07-18</td>\n",
       "      <td>462</td>\n",
       "      <td>83</td>\n",
       "    </tr>\n",
       "    <tr>\n",
       "      <th>12101</th>\n",
       "      <td>49c37155-4d51-4711-b4fb-b76b4f4f8f26</td>\n",
       "      <td>B3</td>\n",
       "      <td>2024-07-12</td>\n",
       "      <td>405</td>\n",
       "      <td>82</td>\n",
       "    </tr>\n",
       "    <tr>\n",
       "      <th>12123</th>\n",
       "      <td>49c37155-4d51-4711-b4fb-b76b4f4f8f26</td>\n",
       "      <td>B3</td>\n",
       "      <td>2024-08-07</td>\n",
       "      <td>470</td>\n",
       "      <td>78</td>\n",
       "    </tr>\n",
       "    <tr>\n",
       "      <th>12099</th>\n",
       "      <td>49c37155-4d51-4711-b4fb-b76b4f4f8f26</td>\n",
       "      <td>B3</td>\n",
       "      <td>2024-07-10</td>\n",
       "      <td>332</td>\n",
       "      <td>78</td>\n",
       "    </tr>\n",
       "    <tr>\n",
       "      <th>44077</th>\n",
       "      <td>fb60ac97-2463-4245-b533-337e2fcef4af</td>\n",
       "      <td>B3</td>\n",
       "      <td>2024-06-27</td>\n",
       "      <td>301</td>\n",
       "      <td>70</td>\n",
       "    </tr>\n",
       "    <tr>\n",
       "      <th>44091</th>\n",
       "      <td>fb60ac97-2463-4245-b533-337e2fcef4af</td>\n",
       "      <td>B3</td>\n",
       "      <td>2024-07-11</td>\n",
       "      <td>302</td>\n",
       "      <td>68</td>\n",
       "    </tr>\n",
       "    <tr>\n",
       "      <th>44114</th>\n",
       "      <td>fb60ac97-2463-4245-b533-337e2fcef4af</td>\n",
       "      <td>B3</td>\n",
       "      <td>2024-08-05</td>\n",
       "      <td>289</td>\n",
       "      <td>63</td>\n",
       "    </tr>\n",
       "    <tr>\n",
       "      <th>12092</th>\n",
       "      <td>49c37155-4d51-4711-b4fb-b76b4f4f8f26</td>\n",
       "      <td>B3</td>\n",
       "      <td>2024-07-02</td>\n",
       "      <td>232</td>\n",
       "      <td>63</td>\n",
       "    </tr>\n",
       "  </tbody>\n",
       "</table>\n",
       "</div>"
      ],
      "text/plain": [
       "null_sale                            product_id city       date   no   si\n",
       "12100      49c37155-4d51-4711-b4fb-b76b4f4f8f26   B3 2024-07-11  570  116\n",
       "12098      49c37155-4d51-4711-b4fb-b76b4f4f8f26   B3 2024-07-09  480  101\n",
       "44098      fb60ac97-2463-4245-b533-337e2fcef4af   B3 2024-07-18  462   83\n",
       "12101      49c37155-4d51-4711-b4fb-b76b4f4f8f26   B3 2024-07-12  405   82\n",
       "12123      49c37155-4d51-4711-b4fb-b76b4f4f8f26   B3 2024-08-07  470   78\n",
       "12099      49c37155-4d51-4711-b4fb-b76b4f4f8f26   B3 2024-07-10  332   78\n",
       "44077      fb60ac97-2463-4245-b533-337e2fcef4af   B3 2024-06-27  301   70\n",
       "44091      fb60ac97-2463-4245-b533-337e2fcef4af   B3 2024-07-11  302   68\n",
       "44114      fb60ac97-2463-4245-b533-337e2fcef4af   B3 2024-08-05  289   63\n",
       "12092      49c37155-4d51-4711-b4fb-b76b4f4f8f26   B3 2024-07-02  232   63"
      ]
     },
     "execution_count": 175,
     "metadata": {},
     "output_type": "execute_result"
    }
   ],
   "source": [
    "result_df_2.pivot_table(index=['product_id','city','date'],\n",
    "                        columns='null_sale',\n",
    "                        aggfunc='size',\n",
    "                        fill_value=0\n",
    "                        ).reset_index().sort_values('si',ascending=False).head(10)"
   ]
  },
  {
   "cell_type": "code",
   "execution_count": 193,
   "metadata": {},
   "outputs": [
    {
     "data": {
      "text/plain": [
       "sales_final\n",
       "1.0    549\n",
       "2.0     20\n",
       "3.0      1\n",
       "Name: count, dtype: int64"
      ]
     },
     "execution_count": 193,
     "metadata": {},
     "output_type": "execute_result"
    }
   ],
   "source": [
    "## caso de estudio\n",
    "\n",
    "result_df_2[(result_df_2[\"product_id\"]=='49c37155-4d51-4711-b4fb-b76b4f4f8f26')\n",
    "            &(result_df_2[\"city\"]=='B3')\n",
    "            &(result_df_2[\"date\"]=='2024-07-11')].sales_final.value_counts()\n",
    "\n",
    "## para este caso se podria imputar por 1, ya que el 96% de los registros se registro 1 venta . "
   ]
  },
  {
   "cell_type": "code",
   "execution_count": 182,
   "metadata": {},
   "outputs": [],
   "source": [
    "## filtro de los los registros con null\n",
    "\n",
    "df_ids_null=result_df_2[result_df_2[\"null_sale\"]=='si'][['product_id','city','date']].drop_duplicates()"
   ]
  },
  {
   "cell_type": "code",
   "execution_count": 200,
   "metadata": {},
   "outputs": [
    {
     "name": "stdout",
     "output_type": "stream",
     "text": [
      "(14785, 5)\n"
     ]
    },
    {
     "data": {
      "text/html": [
       "<div>\n",
       "<style scoped>\n",
       "    .dataframe tbody tr th:only-of-type {\n",
       "        vertical-align: middle;\n",
       "    }\n",
       "\n",
       "    .dataframe tbody tr th {\n",
       "        vertical-align: top;\n",
       "    }\n",
       "\n",
       "    .dataframe thead th {\n",
       "        text-align: right;\n",
       "    }\n",
       "</style>\n",
       "<table border=\"1\" class=\"dataframe\">\n",
       "  <thead>\n",
       "    <tr style=\"text-align: right;\">\n",
       "      <th></th>\n",
       "      <th>product_id</th>\n",
       "      <th>city</th>\n",
       "      <th>date</th>\n",
       "      <th>media_sales_final</th>\n",
       "      <th>total</th>\n",
       "    </tr>\n",
       "  </thead>\n",
       "  <tbody>\n",
       "    <tr>\n",
       "      <th>0</th>\n",
       "      <td>00afde38-77a7-410e-8f94-9d1110a44693</td>\n",
       "      <td>B3</td>\n",
       "      <td>2024-06-06</td>\n",
       "      <td>1.0</td>\n",
       "      <td>3</td>\n",
       "    </tr>\n",
       "    <tr>\n",
       "      <th>1</th>\n",
       "      <td>00afde38-77a7-410e-8f94-9d1110a44693</td>\n",
       "      <td>B3</td>\n",
       "      <td>2024-06-07</td>\n",
       "      <td>1.0</td>\n",
       "      <td>9</td>\n",
       "    </tr>\n",
       "    <tr>\n",
       "      <th>2</th>\n",
       "      <td>00dac0d3-3b8f-4d7f-919a-bfb852e11148</td>\n",
       "      <td>B3</td>\n",
       "      <td>2024-06-17</td>\n",
       "      <td>1.0</td>\n",
       "      <td>5</td>\n",
       "    </tr>\n",
       "    <tr>\n",
       "      <th>3</th>\n",
       "      <td>00dac0d3-3b8f-4d7f-919a-bfb852e11148</td>\n",
       "      <td>B3</td>\n",
       "      <td>2024-07-07</td>\n",
       "      <td>NaN</td>\n",
       "      <td>1</td>\n",
       "    </tr>\n",
       "    <tr>\n",
       "      <th>4</th>\n",
       "      <td>00dac0d3-3b8f-4d7f-919a-bfb852e11148</td>\n",
       "      <td>B3</td>\n",
       "      <td>2024-07-10</td>\n",
       "      <td>NaN</td>\n",
       "      <td>3</td>\n",
       "    </tr>\n",
       "    <tr>\n",
       "      <th>5</th>\n",
       "      <td>00dac0d3-3b8f-4d7f-919a-bfb852e11148</td>\n",
       "      <td>B3</td>\n",
       "      <td>2024-07-11</td>\n",
       "      <td>1.0</td>\n",
       "      <td>5</td>\n",
       "    </tr>\n",
       "    <tr>\n",
       "      <th>6</th>\n",
       "      <td>00dac0d3-3b8f-4d7f-919a-bfb852e11148</td>\n",
       "      <td>B3</td>\n",
       "      <td>2024-08-01</td>\n",
       "      <td>NaN</td>\n",
       "      <td>1</td>\n",
       "    </tr>\n",
       "    <tr>\n",
       "      <th>7</th>\n",
       "      <td>00dac0d3-3b8f-4d7f-919a-bfb852e11148</td>\n",
       "      <td>B3</td>\n",
       "      <td>2024-08-06</td>\n",
       "      <td>NaN</td>\n",
       "      <td>2</td>\n",
       "    </tr>\n",
       "    <tr>\n",
       "      <th>8</th>\n",
       "      <td>00fcdebe-63de-4e41-bcbe-1d13017ae42c</td>\n",
       "      <td>M5</td>\n",
       "      <td>2024-07-24</td>\n",
       "      <td>NaN</td>\n",
       "      <td>1</td>\n",
       "    </tr>\n",
       "    <tr>\n",
       "      <th>9</th>\n",
       "      <td>015ad371-f82f-4eba-ab3a-dc4c77262d23</td>\n",
       "      <td>B3</td>\n",
       "      <td>2024-06-04</td>\n",
       "      <td>1.0</td>\n",
       "      <td>7</td>\n",
       "    </tr>\n",
       "    <tr>\n",
       "      <th>10</th>\n",
       "      <td>015ad371-f82f-4eba-ab3a-dc4c77262d23</td>\n",
       "      <td>B3</td>\n",
       "      <td>2024-06-07</td>\n",
       "      <td>1.0</td>\n",
       "      <td>4</td>\n",
       "    </tr>\n",
       "    <tr>\n",
       "      <th>11</th>\n",
       "      <td>015ad371-f82f-4eba-ab3a-dc4c77262d23</td>\n",
       "      <td>B3</td>\n",
       "      <td>2024-06-10</td>\n",
       "      <td>NaN</td>\n",
       "      <td>1</td>\n",
       "    </tr>\n",
       "    <tr>\n",
       "      <th>12</th>\n",
       "      <td>015ad371-f82f-4eba-ab3a-dc4c77262d23</td>\n",
       "      <td>B3</td>\n",
       "      <td>2024-07-03</td>\n",
       "      <td>1.0</td>\n",
       "      <td>4</td>\n",
       "    </tr>\n",
       "    <tr>\n",
       "      <th>13</th>\n",
       "      <td>015ad371-f82f-4eba-ab3a-dc4c77262d23</td>\n",
       "      <td>B3</td>\n",
       "      <td>2024-07-22</td>\n",
       "      <td>NaN</td>\n",
       "      <td>3</td>\n",
       "    </tr>\n",
       "    <tr>\n",
       "      <th>14</th>\n",
       "      <td>015ad371-f82f-4eba-ab3a-dc4c77262d23</td>\n",
       "      <td>B3</td>\n",
       "      <td>2024-07-24</td>\n",
       "      <td>NaN</td>\n",
       "      <td>1</td>\n",
       "    </tr>\n",
       "    <tr>\n",
       "      <th>15</th>\n",
       "      <td>015ad371-f82f-4eba-ab3a-dc4c77262d23</td>\n",
       "      <td>B3</td>\n",
       "      <td>2024-08-06</td>\n",
       "      <td>NaN</td>\n",
       "      <td>1</td>\n",
       "    </tr>\n",
       "    <tr>\n",
       "      <th>16</th>\n",
       "      <td>016910ce-27cd-4536-9b14-96e9caec3f56</td>\n",
       "      <td>B3</td>\n",
       "      <td>2024-06-07</td>\n",
       "      <td>1.0</td>\n",
       "      <td>14</td>\n",
       "    </tr>\n",
       "    <tr>\n",
       "      <th>17</th>\n",
       "      <td>016910ce-27cd-4536-9b14-96e9caec3f56</td>\n",
       "      <td>B3</td>\n",
       "      <td>2024-06-13</td>\n",
       "      <td>1.5</td>\n",
       "      <td>4</td>\n",
       "    </tr>\n",
       "    <tr>\n",
       "      <th>18</th>\n",
       "      <td>016910ce-27cd-4536-9b14-96e9caec3f56</td>\n",
       "      <td>B3</td>\n",
       "      <td>2024-07-04</td>\n",
       "      <td>1.0</td>\n",
       "      <td>28</td>\n",
       "    </tr>\n",
       "    <tr>\n",
       "      <th>19</th>\n",
       "      <td>016910ce-27cd-4536-9b14-96e9caec3f56</td>\n",
       "      <td>B3</td>\n",
       "      <td>2024-07-10</td>\n",
       "      <td>1.0</td>\n",
       "      <td>11</td>\n",
       "    </tr>\n",
       "  </tbody>\n",
       "</table>\n",
       "</div>"
      ],
      "text/plain": [
       "                              product_id city       date  media_sales_final  \\\n",
       "0   00afde38-77a7-410e-8f94-9d1110a44693   B3 2024-06-06                1.0   \n",
       "1   00afde38-77a7-410e-8f94-9d1110a44693   B3 2024-06-07                1.0   \n",
       "2   00dac0d3-3b8f-4d7f-919a-bfb852e11148   B3 2024-06-17                1.0   \n",
       "3   00dac0d3-3b8f-4d7f-919a-bfb852e11148   B3 2024-07-07                NaN   \n",
       "4   00dac0d3-3b8f-4d7f-919a-bfb852e11148   B3 2024-07-10                NaN   \n",
       "5   00dac0d3-3b8f-4d7f-919a-bfb852e11148   B3 2024-07-11                1.0   \n",
       "6   00dac0d3-3b8f-4d7f-919a-bfb852e11148   B3 2024-08-01                NaN   \n",
       "7   00dac0d3-3b8f-4d7f-919a-bfb852e11148   B3 2024-08-06                NaN   \n",
       "8   00fcdebe-63de-4e41-bcbe-1d13017ae42c   M5 2024-07-24                NaN   \n",
       "9   015ad371-f82f-4eba-ab3a-dc4c77262d23   B3 2024-06-04                1.0   \n",
       "10  015ad371-f82f-4eba-ab3a-dc4c77262d23   B3 2024-06-07                1.0   \n",
       "11  015ad371-f82f-4eba-ab3a-dc4c77262d23   B3 2024-06-10                NaN   \n",
       "12  015ad371-f82f-4eba-ab3a-dc4c77262d23   B3 2024-07-03                1.0   \n",
       "13  015ad371-f82f-4eba-ab3a-dc4c77262d23   B3 2024-07-22                NaN   \n",
       "14  015ad371-f82f-4eba-ab3a-dc4c77262d23   B3 2024-07-24                NaN   \n",
       "15  015ad371-f82f-4eba-ab3a-dc4c77262d23   B3 2024-08-06                NaN   \n",
       "16  016910ce-27cd-4536-9b14-96e9caec3f56   B3 2024-06-07                1.0   \n",
       "17  016910ce-27cd-4536-9b14-96e9caec3f56   B3 2024-06-13                1.5   \n",
       "18  016910ce-27cd-4536-9b14-96e9caec3f56   B3 2024-07-04                1.0   \n",
       "19  016910ce-27cd-4536-9b14-96e9caec3f56   B3 2024-07-10                1.0   \n",
       "\n",
       "    total  \n",
       "0       3  \n",
       "1       9  \n",
       "2       5  \n",
       "3       1  \n",
       "4       3  \n",
       "5       5  \n",
       "6       1  \n",
       "7       2  \n",
       "8       1  \n",
       "9       7  \n",
       "10      4  \n",
       "11      1  \n",
       "12      4  \n",
       "13      3  \n",
       "14      1  \n",
       "15      1  \n",
       "16     14  \n",
       "17      4  \n",
       "18     28  \n",
       "19     11  "
      ]
     },
     "execution_count": 200,
     "metadata": {},
     "output_type": "execute_result"
    }
   ],
   "source": [
    "df_null_ids=result_df_2.merge(df_ids_null,on=['product_id','city','date']).groupby(['product_id','city','date']).agg(\n",
    "    media_sales_final=('sales_final','median'),\n",
    "    total=('sales_final','size')\n",
    ").reset_index()\n",
    "\n",
    "print(df_null_ids.shape)\n",
    "df_null_ids.head(20)"
   ]
  },
  {
   "cell_type": "code",
   "execution_count": 201,
   "metadata": {},
   "outputs": [
    {
     "data": {
      "text/plain": [
       "media_sales_final\n",
       "1.0    0.616909\n",
       "NaN    0.306256\n",
       "2.0    0.037606\n",
       "1.5    0.013121\n",
       "3.0    0.011566\n",
       "Name: proportion, dtype: float64"
      ]
     },
     "execution_count": 201,
     "metadata": {},
     "output_type": "execute_result"
    }
   ],
   "source": [
    "# si se analiza por dia de venta del producto en la city por fecha se observa que la media del 61% de las cantidades es 1\n",
    "# un 30% es null, ya que la unica venta que se hizo para ese producto ,city y fecha fue registrado como null\n",
    "df_null_ids.media_sales_final.value_counts(1,dropna=False).head()"
   ]
  },
  {
   "cell_type": "code",
   "execution_count": 203,
   "metadata": {},
   "outputs": [
    {
     "name": "stdout",
     "output_type": "stream",
     "text": [
      "(2100, 4)\n"
     ]
    },
    {
     "data": {
      "text/html": [
       "<div>\n",
       "<style scoped>\n",
       "    .dataframe tbody tr th:only-of-type {\n",
       "        vertical-align: middle;\n",
       "    }\n",
       "\n",
       "    .dataframe tbody tr th {\n",
       "        vertical-align: top;\n",
       "    }\n",
       "\n",
       "    .dataframe thead th {\n",
       "        text-align: right;\n",
       "    }\n",
       "</style>\n",
       "<table border=\"1\" class=\"dataframe\">\n",
       "  <thead>\n",
       "    <tr style=\"text-align: right;\">\n",
       "      <th></th>\n",
       "      <th>product_id</th>\n",
       "      <th>city</th>\n",
       "      <th>media_sales_final</th>\n",
       "      <th>total</th>\n",
       "    </tr>\n",
       "  </thead>\n",
       "  <tbody>\n",
       "    <tr>\n",
       "      <th>0</th>\n",
       "      <td>00afde38-77a7-410e-8f94-9d1110a44693</td>\n",
       "      <td>B3</td>\n",
       "      <td>1.0</td>\n",
       "      <td>38</td>\n",
       "    </tr>\n",
       "    <tr>\n",
       "      <th>1</th>\n",
       "      <td>00dac0d3-3b8f-4d7f-919a-bfb852e11148</td>\n",
       "      <td>B3</td>\n",
       "      <td>1.0</td>\n",
       "      <td>426</td>\n",
       "    </tr>\n",
       "    <tr>\n",
       "      <th>2</th>\n",
       "      <td>00fcdebe-63de-4e41-bcbe-1d13017ae42c</td>\n",
       "      <td>M5</td>\n",
       "      <td>NaN</td>\n",
       "      <td>1</td>\n",
       "    </tr>\n",
       "    <tr>\n",
       "      <th>3</th>\n",
       "      <td>015ad371-f82f-4eba-ab3a-dc4c77262d23</td>\n",
       "      <td>B3</td>\n",
       "      <td>1.0</td>\n",
       "      <td>406</td>\n",
       "    </tr>\n",
       "    <tr>\n",
       "      <th>4</th>\n",
       "      <td>016910ce-27cd-4536-9b14-96e9caec3f56</td>\n",
       "      <td>B3</td>\n",
       "      <td>1.0</td>\n",
       "      <td>1416</td>\n",
       "    </tr>\n",
       "  </tbody>\n",
       "</table>\n",
       "</div>"
      ],
      "text/plain": [
       "                             product_id city  media_sales_final  total\n",
       "0  00afde38-77a7-410e-8f94-9d1110a44693   B3                1.0     38\n",
       "1  00dac0d3-3b8f-4d7f-919a-bfb852e11148   B3                1.0    426\n",
       "2  00fcdebe-63de-4e41-bcbe-1d13017ae42c   M5                NaN      1\n",
       "3  015ad371-f82f-4eba-ab3a-dc4c77262d23   B3                1.0    406\n",
       "4  016910ce-27cd-4536-9b14-96e9caec3f56   B3                1.0   1416"
      ]
     },
     "execution_count": 203,
     "metadata": {},
     "output_type": "execute_result"
    }
   ],
   "source": [
    "# agrupamos a nivel producto y city\n",
    "\n",
    "df_null_ids_2=result_df_2.merge(df_ids_null,on=['product_id','city']).groupby(['product_id','city']).agg(\n",
    "    media_sales_final=('sales_final','median'),\n",
    "    total=('sales_final','size')\n",
    ").reset_index()\n",
    "\n",
    "print(df_null_ids_2.shape)\n",
    "df_null_ids_2.head()"
   ]
  },
  {
   "cell_type": "code",
   "execution_count": 204,
   "metadata": {},
   "outputs": [
    {
     "data": {
      "text/plain": [
       "media_sales_final\n",
       "1.0    0.907619\n",
       "NaN    0.036190\n",
       "2.0    0.034286\n",
       "1.5    0.007619\n",
       "3.0    0.007619\n",
       "Name: proportion, dtype: float64"
      ]
     },
     "execution_count": 204,
     "metadata": {},
     "output_type": "execute_result"
    }
   ],
   "source": [
    "# se observa que la media de 1 aumenta al 90% y solo el 3% no presento venta para producto, citi\n",
    "\n",
    "df_null_ids_2.media_sales_final.value_counts(1,dropna=False).head()"
   ]
  },
  {
   "cell_type": "code",
   "execution_count": 205,
   "metadata": {},
   "outputs": [
    {
     "name": "stdout",
     "output_type": "stream",
     "text": [
      "(833, 3)\n"
     ]
    },
    {
     "data": {
      "text/html": [
       "<div>\n",
       "<style scoped>\n",
       "    .dataframe tbody tr th:only-of-type {\n",
       "        vertical-align: middle;\n",
       "    }\n",
       "\n",
       "    .dataframe tbody tr th {\n",
       "        vertical-align: top;\n",
       "    }\n",
       "\n",
       "    .dataframe thead th {\n",
       "        text-align: right;\n",
       "    }\n",
       "</style>\n",
       "<table border=\"1\" class=\"dataframe\">\n",
       "  <thead>\n",
       "    <tr style=\"text-align: right;\">\n",
       "      <th></th>\n",
       "      <th>product_id</th>\n",
       "      <th>media_sales_final</th>\n",
       "      <th>total</th>\n",
       "    </tr>\n",
       "  </thead>\n",
       "  <tbody>\n",
       "    <tr>\n",
       "      <th>0</th>\n",
       "      <td>00afde38-77a7-410e-8f94-9d1110a44693</td>\n",
       "      <td>1.0</td>\n",
       "      <td>42</td>\n",
       "    </tr>\n",
       "    <tr>\n",
       "      <th>1</th>\n",
       "      <td>00dac0d3-3b8f-4d7f-919a-bfb852e11148</td>\n",
       "      <td>1.0</td>\n",
       "      <td>516</td>\n",
       "    </tr>\n",
       "    <tr>\n",
       "      <th>2</th>\n",
       "      <td>00fcdebe-63de-4e41-bcbe-1d13017ae42c</td>\n",
       "      <td>1.0</td>\n",
       "      <td>23</td>\n",
       "    </tr>\n",
       "    <tr>\n",
       "      <th>3</th>\n",
       "      <td>015ad371-f82f-4eba-ab3a-dc4c77262d23</td>\n",
       "      <td>1.0</td>\n",
       "      <td>455</td>\n",
       "    </tr>\n",
       "    <tr>\n",
       "      <th>4</th>\n",
       "      <td>016910ce-27cd-4536-9b14-96e9caec3f56</td>\n",
       "      <td>1.0</td>\n",
       "      <td>1416</td>\n",
       "    </tr>\n",
       "  </tbody>\n",
       "</table>\n",
       "</div>"
      ],
      "text/plain": [
       "                             product_id  media_sales_final  total\n",
       "0  00afde38-77a7-410e-8f94-9d1110a44693                1.0     42\n",
       "1  00dac0d3-3b8f-4d7f-919a-bfb852e11148                1.0    516\n",
       "2  00fcdebe-63de-4e41-bcbe-1d13017ae42c                1.0     23\n",
       "3  015ad371-f82f-4eba-ab3a-dc4c77262d23                1.0    455\n",
       "4  016910ce-27cd-4536-9b14-96e9caec3f56                1.0   1416"
      ]
     },
     "execution_count": 205,
     "metadata": {},
     "output_type": "execute_result"
    }
   ],
   "source": [
    "# agrupamos a nivel producto y city\n",
    "df_null_ids_3=result_df_2.merge(df_ids_null,on=['product_id']).groupby(['product_id']).agg(\n",
    "    media_sales_final=('sales_final','median'),\n",
    "    total=('sales_final','size')\n",
    ").reset_index()\n",
    "\n",
    "print(df_null_ids_3.shape)\n",
    "df_null_ids_3.head()"
   ]
  },
  {
   "cell_type": "code",
   "execution_count": 206,
   "metadata": {},
   "outputs": [
    {
     "data": {
      "text/plain": [
       "media_sales_final\n",
       "1.0    0.950780\n",
       "2.0    0.028812\n",
       "NaN    0.007203\n",
       "3.0    0.004802\n",
       "4.0    0.002401\n",
       "Name: proportion, dtype: float64"
      ]
     },
     "execution_count": 206,
     "metadata": {},
     "output_type": "execute_result"
    }
   ],
   "source": [
    "# se observa que la media de 1 aumenta al 95% y solo el 0.7% no presento venta para producto\n",
    "\n",
    "df_null_ids_3.media_sales_final.value_counts(1,dropna=False).head()"
   ]
  },
  {
   "cell_type": "markdown",
   "metadata": {},
   "source": [
    "## 5. Conclusiones Analisis Explotario inicial"
   ]
  },
  {
   "cell_type": "markdown",
   "metadata": {},
   "source": [
    "### Conclusiones del Análisis Exploratorio\n",
    "\n",
    "1. **Concentración de Ventas en Países B y M:** El 95% de las ventas acumuladas provienen de los países B y M. Dado que la base de datos geográfica (`geo.csv`) solo contiene información para estos dos países, se decide enfocar el modelado exclusivamente en ellos.\n",
    "\n",
    "2. **Manejo de Datos Faltantes en `zipcode`:** Tras filtrar la base de datos para incluir solo los países B y M, se observó que los registros con valores nulos en `zipcode` representan menos del 0.01% del total. Debido a su baja incidencia, se optó por excluir estos registros del análisis.\n",
    "\n",
    "3. **Imputación de Valores Faltantes en `sales`:** Los valores faltantes en la columna `sales` se imputarán con un valor de 1. Esta decisión se basa en el análisis de la media de ventas para los registros con la misma fecha, producto y ciudad, que es de 1 en la mayoría de los casos. Aunque un pequeño porcentaje de productos presenta una media superior a 1, se decidió optar por una imputación conservadora para simplificar el proceso.\n"
   ]
  },
  {
   "cell_type": "code",
   "execution_count": 213,
   "metadata": {},
   "outputs": [],
   "source": [
    "# Cargar los datos desde archivos CSV\n",
    "sales_df = pd.read_csv(f'{data_dir}product_sales.csv')\n",
    "geo_df = pd.read_csv(f'{data_dir}geo.csv')\n",
    "\n",
    "# quitar los espacios\n",
    "sales_df['country']=sales_df['country'].str.strip()\n",
    "geo_df['country']=geo_df['country'].str.strip()\n",
    "\n",
    "\n",
    "# filtrar \n",
    "df_sale_=sales_df[(sales_df['country'].isin(['B','M']))\n",
    "         &(~sales_df['zipcode'].isnull())].copy()\n",
    "\n",
    "df_sale_['zipcode']=df_sale_['zipcode'].astype(int)\n",
    "\n",
    "# tranformacion sales en numerica, \n",
    "df_sale_['sales']=pd.to_numeric(df_sale_['sales'],errors='coerce')\n",
    "df_sale_['sales']=np.where(df_sale_['sales'].isin([9999,np.nan]),np.nan,df_sale_['sales'])"
   ]
  },
  {
   "cell_type": "code",
   "execution_count": 209,
   "metadata": {},
   "outputs": [
    {
     "data": {
      "text/plain": [
       "((215114, 8), (215114, 9))"
      ]
     },
     "execution_count": 209,
     "metadata": {},
     "output_type": "execute_result"
    }
   ],
   "source": [
    "## con sql es mas facil hacer este cruce \n",
    "query = \"\"\"\n",
    "SELECT \n",
    "    s.country, \n",
    "    s.product_id, \n",
    "    s.date, \n",
    "    s.zipcode, \n",
    "    s.sales, \n",
    "    g.s_zipcode,\n",
    "    g.e_zipcode,\n",
    "    g.city\n",
    "FROM \n",
    "    df_sale_ s\n",
    "left JOIN \n",
    "    geo_df g\n",
    "ON 1=1\n",
    "    and s.country = g.country \n",
    "    and s.zipcode >= g.s_zipcode \n",
    "    and (s.zipcode < g.e_zipcode or (s.country='M' and s.zipcode=99999) or (s.country='B' and s.zipcode=99999999))\n",
    "\"\"\"\n",
    "\n",
    "# Ejecutar la consulta SQL\n",
    "df_merge = psql.sqldf(query, locals())\n",
    "\n",
    "df_merge.shape,df_sale_.shape"
   ]
  },
  {
   "cell_type": "code",
   "execution_count": 214,
   "metadata": {},
   "outputs": [],
   "source": [
    "df_merge['date'] = pd.to_datetime(df_merge['date'])\n",
    "df_merge['product_id']=df_merge['product_id'].str.strip()"
   ]
  },
  {
   "cell_type": "code",
   "execution_count": 215,
   "metadata": {},
   "outputs": [],
   "source": [
    "# guardo base\n",
    "df_merge.to_parquet(f'{data_dir}base_merge.parquet')"
   ]
  },
  {
   "cell_type": "markdown",
   "metadata": {},
   "source": [
    "## 6. Analisis Serie"
   ]
  },
  {
   "cell_type": "code",
   "execution_count": 13,
   "metadata": {},
   "outputs": [],
   "source": [
    "df_merge=pd.read_parquet(f'{data_dir}base_merge.parquet')"
   ]
  },
  {
   "cell_type": "code",
   "execution_count": 14,
   "metadata": {},
   "outputs": [],
   "source": [
    "datos_b=df_merge[df_merge['country'] == 'B'].groupby(['date']).agg(ventas=('sales', 'sum')).sort_index()\n",
    "datos_m=df_merge[df_merge['country'] == 'M'].groupby(['date']).agg(ventas=('sales', 'sum')).sort_index()"
   ]
  },
  {
   "cell_type": "markdown",
   "metadata": {},
   "source": [
    "### Descomposición de series"
   ]
  },
  {
   "cell_type": "code",
   "execution_count": 16,
   "metadata": {},
   "outputs": [],
   "source": [
    "from statsmodels.tsa.seasonal import seasonal_decompose"
   ]
  },
  {
   "cell_type": "code",
   "execution_count": 17,
   "metadata": {},
   "outputs": [
    {
     "data": {
      "image/png": "[encoded data removed]",
      "text/plain": [
       "<Figure size 1500x600 with 8 Axes>"
      ]
     },
     "metadata": {},
     "output_type": "display_data"
    }
   ],
   "source": [
    "res_descompose_b = seasonal_decompose(datos_b, model='additive', extrapolate_trend='freq')\n",
    "res_descompose_m = seasonal_decompose(datos_m, model='additive', extrapolate_trend='freq')\n",
    "\n",
    "fig, axs = plt.subplots(nrows=4, ncols=2, figsize=(15, 6), sharex=True)\n",
    "res_descompose_b.observed.plot(ax=axs[0, 0])\n",
    "axs[0, 0].set_title('Serie original', fontsize=12)\n",
    "res_descompose_b.trend.plot(ax=axs[1, 0])\n",
    "axs[1, 0].set_title('Tendencia', fontsize=12)\n",
    "res_descompose_b.seasonal.plot(ax=axs[2, 0])\n",
    "axs[2, 0].set_title('Estacionalidad', fontsize=12)\n",
    "res_descompose_b.resid.plot(ax=axs[3, 0])\n",
    "axs[3, 0].set_title('Residuos', fontsize=12)\n",
    "res_descompose_m.observed.plot(ax=axs[0, 1])\n",
    "axs[0, 1].set_title('Series original', fontsize=12)\n",
    "res_descompose_m.trend.plot(ax=axs[1, 1])\n",
    "axs[1, 1].set_title('Tendencia', fontsize=12)\n",
    "res_descompose_m.seasonal.plot(ax=axs[2, 1])\n",
    "axs[2, 1].set_title('Estacionalidad', fontsize=12)\n",
    "res_descompose_m.resid.plot(ax=axs[3, 1])\n",
    "axs[3, 1].set_title('Residuos', fontsize=12)\n",
    "fig.suptitle('Descomposición de la serie original ventas pais B vs M', fontsize=14)\n",
    "fig.tight_layout();"
   ]
  },
  {
   "cell_type": "markdown",
   "metadata": {},
   "source": [
    "#### 1. **Tendencia:** \n",
    "   - **País B:** La tendencia en el país B muestra un crecimiento en las ventas, alcanzando un pico en algún punto del período analizado, seguido de una leve disminución o estabilización.\n",
    "   - **País M:** De manera similar, el país M también muestra una tendencia ascendente, pero con un pico más moderado y una estabilización más marcada al final del período.\n",
    "\n",
    "\n",
    "#### 2. **Estacionalidad:**\n",
    "   - **Ambos Países:** La estacionalidad es bastante pronunciada y parece seguir un patrón regular, con ciclos repetitivos de aumentos y disminuciones. En ambos países, se observan ciclos semanales, lo que sugiere que hay un componente estacional relacionado con la semana, probablemente con más ventas en ciertos días.\n",
    "   - **Comparación:** La estacionalidad parece ser más pronunciada en el país M, con variaciones más grandes en las ventas de un periodo a otro, mientras que en B, aunque presente, es más moderada.\n",
    "\n",
    "#### 3. **Residuos:**\n",
    "   - **País B:** Los residuos en el país B parecen estar relativamente bien distribuidos alrededor de cero, sin patrones claros visibles, lo que sugiere que el modelo de descomposición ha capturado bien la tendencia y la estacionalidad.\n",
    "   - **País M:** Los residuos en M muestran más variabilidad, lo que podría indicar que algunos factores no capturados por el modelo están influyendo en las ventas."
   ]
  },
  {
   "cell_type": "markdown",
   "metadata": {},
   "source": [
    "### Análisis de autocorrelación"
   ]
  },
  {
   "cell_type": "code",
   "execution_count": 19,
   "metadata": {},
   "outputs": [],
   "source": [
    "from statsmodels.graphics.tsaplots import plot_acf, plot_pacf"
   ]
  },
  {
   "cell_type": "code",
   "execution_count": 20,
   "metadata": {},
   "outputs": [
    {
     "data": {
      "image/png": "[encoded data removed]",
      "text/plain": [
       "<Figure size 1500x400 with 2 Axes>"
      ]
     },
     "metadata": {},
     "output_type": "display_data"
    }
   ],
   "source": [
    "fig, axs = plt.subplots(nrows=2, ncols=1, figsize=(15, 4), sharex=True)\n",
    "plot_acf(datos_b, ax=axs[0], lags=28, alpha=0.05)\n",
    "axs[0].set_title('Autocorrelación pais B')\n",
    "plot_acf(datos_m, ax=axs[1], lags=28, alpha=0.05)\n",
    "axs[1].set_title('Autocorrelación pais M');"
   ]
  },
  {
   "cell_type": "markdown",
   "metadata": {},
   "source": [
    "#### 1. **Autocorrelacion:** \n",
    "   - **País B:** Se aprecia una autocorrelacion semanal, esto puede astar indicando el dia de la semana. \n",
    "   - **País M:** Se aprecia una autocorrelacion semanal, esto puede astar indicando el dia de la semana."
   ]
  }
 ],
 "metadata": {
  "kernelspec": {
   "display_name": "Python 3",
   "language": "python",
   "name": "python3"
  },
  "language_info": {
   "codemirror_mode": {
    "name": "ipython",
    "version": 3
   },
   "file_extension": ".py",
   "mimetype": "text/x-python",
   "name": "python",
   "nbconvert_exporter": "python",
   "pygments_lexer": "ipython3",
   "version": "3.12.3"
  }
 },
 "nbformat": 4,
 "nbformat_minor": 2
}
